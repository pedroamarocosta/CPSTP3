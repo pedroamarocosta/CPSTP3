{
 "cells": [
  {
   "cell_type": "code",
   "execution_count": 24,
   "metadata": {},
   "outputs": [
    {
     "name": "stdout",
     "output_type": "stream",
     "text": [
      "2.2.1\n"
     ]
    },
    {
     "data": {
      "text/html": [
       "<script>requirejs.config({paths: { 'plotly': ['https://cdn.plot.ly/plotly-latest.min']},});if(!window.Plotly) {{require(['plotly'],function(plotly) {window.Plotly=plotly;});}}</script>"
      ],
      "text/vnd.plotly.v1+html": [
       "<script>requirejs.config({paths: { 'plotly': ['https://cdn.plot.ly/plotly-latest.min']},});if(!window.Plotly) {{require(['plotly'],function(plotly) {window.Plotly=plotly;});}}</script>"
      ]
     },
     "metadata": {},
     "output_type": "display_data"
    }
   ],
   "source": [
    "from IPython.display import IFrame\n",
    "from IPython.core.display import display, HTML\n",
    "from numpy import pi, arange, ceil, floor, zeros, array, uint8, int8, sin, split, uint16, arange, vstack, set_printoptions, \\\n",
    "inf, vectorize, hstack, random, sqrt, pi, exp, dtype, float64, add, sin, cos, linspace, sinc, dot\n",
    "from pylab import binary_repr, digitize, empty\n",
    "from scipy.io import wavfile\n",
    "from scipy import signal\n",
    "\n",
    "import matplotlib.pyplot as plt\n",
    "import plotly.plotly \n",
    "import plotly.graph_objs\n",
    "import timeit\n",
    "\n",
    "set_printoptions(threshold=inf)\n",
    "\n",
    "from plotly import __version__\n",
    "from plotly.offline import download_plotlyjs, init_notebook_mode, plot, iplot\n",
    "from plotly.graph_objs import Scatter, Figure, Layout\n",
    "\n",
    "print(__version__) # requires version >= 1.9.0\n",
    "init_notebook_mode(connected=True)\n"
   ]
  },
  {
   "cell_type": "code",
   "execution_count": 2,
   "metadata": {},
   "outputs": [
    {
     "data": {
      "text/html": [
       "\n",
       "        <iframe\n",
       "            width=\"985\"\n",
       "            height=\"1200\"\n",
       "            src=\"myJupyterFiles/trab_cps_3.pdf\"\n",
       "            frameborder=\"0\"\n",
       "            allowfullscreen\n",
       "        ></iframe>\n",
       "        "
      ],
      "text/plain": [
       "<IPython.lib.display.IFrame at 0x22077ff3240>"
      ]
     },
     "execution_count": 2,
     "metadata": {},
     "output_type": "execute_result"
    }
   ],
   "source": [
    "IFrame(\"myJupyterFiles/trab_cps_3.pdf\", width=985, height=1200)"
   ]
  },
  {
   "cell_type": "code",
   "execution_count": 40,
   "metadata": {},
   "outputs": [
    {
     "name": "stdout",
     "output_type": "stream",
     "text": [
      "\n",
      "\n",
      "New File: myJupyterFiles/bach_guitar.wav, RBits=16\n",
      "WavFile Type: int16\n",
      "Duration: 16.068571428571428\n",
      "Amplitude: 32767\n",
      "SamplesTaken: 708624\n",
      "\n",
      "\n",
      "Wall time: 5.32 s\n"
     ]
    }
   ],
   "source": [
    "%%time\n",
    "%matplotlib inline\n",
    "    \n",
    "def decodingPCM(R, CodeWord, VTable, SamplesTaken, type=\"Uniform\"):    \n",
    "    #==========================================================================\n",
    "    # IntTable: all the values back to int\n",
    "    #==========================================================================    \n",
    "    IntTable=[]\n",
    "    CodeWord = split(CodeWord, SamplesTaken)\n",
    "    decimal = 0\n",
    "    for binaryGroup in CodeWord:\n",
    "        for binary in binaryGroup:\n",
    "            decimal = decimal * 2 + int(str(binary))\n",
    "        IntTable.append(decimal)\n",
    "        decimal = 0\n",
    "        \n",
    "    return hstack(Result)\n",
    "\n",
    "    #==========================================================================\n",
    "    #  Binary Code Table as Numpy Array\n",
    "    # ==========================================================================     \n",
    "    OriginalMessage = VTable[IntTable]\n",
    "    \n",
    "    return OriginalMessage\n",
    "\n",
    "\n",
    "def encodingPCM(R, IndexTable, type=\"Uniform\"):\n",
    "\n",
    "    #======================================================================\n",
    "    # StringTable: maps in 3 bits all the values in IndexTable, and lists\n",
    "    #======================================================================\n",
    "    StringTable = list(map(lambda x: binary_repr(x, R), IndexTable))  \n",
    "    \n",
    "    #==========================================================================\n",
    "    # CharTable: maps in 1 bits all the values in StringTable, and then lists\n",
    "    #==========================================================================\n",
    "    CodingTable = array(zeros(len(StringTable)*R))\n",
    "    index = 0\n",
    "    for code in StringTable:\n",
    "        for bit in code:\n",
    "            CodingTable[index] = bit\n",
    "            index += 1\n",
    "    CodingTable = CodingTable.astype(uint16)   \n",
    "    \n",
    "    #==========================================================================\n",
    "    # Table of Indexes: IndexTable as Figure\n",
    "    #==========================================================================  \n",
    "    #print(\"Table of Indexes Used In Sample\")\n",
    "    #print(vstack(IndexTable))\n",
    "    #print(\"\\n\")\n",
    "    \n",
    "    #==========================================================================\n",
    "    # Table of Code: IndexTable as Binary\n",
    "    #==========================================================================  \n",
    "    #print(\"Table of Indexes As Binary\")\n",
    "    #print(vstack(StringTable))\n",
    "    #print(\"\\n\")\n",
    "\n",
    "    #matplotlib.pyplot.figure(figsize=(15,10))\n",
    "    #matplotlib.pyplot.title(\"IndexTable\")\n",
    "    #matplotlib.pyplot.xlabel(\"Time (Sampled Signal Index)\")\n",
    "    #matplotlib.pyplot.ylabel(\"Vmax (Amplitude)\")\n",
    "    #matplotlib.pyplot.xticks(arange(len(IndexTable)), StringTable[:])\n",
    "    #matplotlib.pyplot.grid()\n",
    "    #matplotlib.pyplot.stem(IndexTable, linefmt='r:', markerfmt='rs', basefmt='_')\n",
    "    #matplotlib.pyplot.show()\n",
    "    #print(\"\\n\")\n",
    "    \n",
    "    #print(CodingTable)\n",
    "    return CodingTable\n",
    "\n",
    "\n",
    "def quantization(R, Vmax, sampledSignal, SamplesTaken, quantifier=\"Midrise\"):\n",
    "    \n",
    "    L = 2**R \n",
    "    q = 2*Vmax/L \n",
    "    \n",
    "    if(quantifier==\"Midtread\"):\n",
    "        VTable = arange(-Vmax +q, Vmax +q, q)[::]\n",
    "        #DecisionValues = vstack(arange(-Vmax +q/2, Vmax +q/2, q))[:0:-1]\n",
    "        #QuantifiedSignal = q * ceil(sampledSignal/q) #midtread\n",
    "        QuantifiedSignal = q * floor(sampledSignal/q) #midtread\n",
    "\n",
    "    else:\n",
    "        VTable = arange(-Vmax +q/2, Vmax +q/2, q)[::]\n",
    "        #DecisionValues = vstack(arange(-Vmax +q, Vmax +q, q))[-2::-1]\n",
    "        #QuantifiedSignal = q * ceil(sampledSignal/q) - q/2 #midrise\n",
    "        QuantifiedSignal = q * floor(sampledSignal/q) + q/2 #midrise\n",
    "        \n",
    "    IndexTable = [x-1 for x in digitize(array(QuantifiedSignal), array(VTable))]  \n",
    "    \n",
    "    #==========================================================================\n",
    "    # Quantified Signal Mq[n]\n",
    "    #==========================================================================\n",
    "    #print(\"\\n\")\n",
    "    #matplotlib.pyplot.figure(figsize=(15,10))\n",
    "    #matplotlib.pyplot.title(\"Quantification Mq[n]\")\n",
    "    #matplotlib.pyplot.xlabel(\"Time (Sampled Signal Index)\")\n",
    "    #matplotlib.pyplot.ylabel(\"Vmax (Amplitude)\")\n",
    "    #matplotlib.pyplot.yticks(VTable)\n",
    "    #matplotlib.pyplot.xticks(arange(20))\n",
    "    #matplotlib.pyplot.grid()\n",
    "    #matplotlib.pyplot.plot(sampledSignal, 'c', label='M[n]') \n",
    "    #matplotlib.pyplot.plot(QuantifiedSignal[:SamplesTaken], 'r:', QuantifiedSignal[:SamplesTaken], 'rs', label='Mq[n]')\n",
    "    #matplotlib.pyplot.show()\n",
    "    #print(\"\\n\")\n",
    "    \n",
    "    ##=========================================================================\n",
    "    # Sampled Signal Table\n",
    "    ##=========================================================================\n",
    "    #print(\"Table Sampled Signal\")\n",
    "    #print(vstack(sampledSignal))\n",
    "    #print(\"\\n\")\n",
    "\n",
    "    #==========================================================================\n",
    "    # Quantification Values Table (Midrise)\n",
    "    #==========================================================================\n",
    "    #print(\"Table Quantization Type: \" + str(quantifier))\n",
    "    #print(vstack(VTable))\n",
    "    #print(\"\\n\")\n",
    "\n",
    "    #==========================================================================\n",
    "    # Quantified Signal Table\n",
    "    #==========================================================================\n",
    "    #print(\"Table Quantization\")\n",
    "    #print(vstack(QuantifiedSignal))\n",
    "    #print(\"\\n\")\n",
    "    \n",
    "    return IndexTable, VTable, QuantifiedSignal\n",
    "\n",
    "#=========================================================================\n",
    "# Audio Signal Complete ADC\n",
    "#=========================================================================\n",
    "\n",
    "#File = \"myJupyterFiles/som_8_16_mono\"\n",
    "#File = \"myJupyterFiles/lightsaber\"\n",
    "File = \"myJupyterFiles/bach_guitar\"\n",
    "Fs, Data = wavfile.read(File + \".wav\")\n",
    "SamplesTaken = len(Data)\n",
    "Duration = len(Data)/Fs \n",
    "SampledSignal = Data[:SamplesTaken]\n",
    "Amplitude = max(abs(SampledSignal))\n",
    "Vmax = Amplitude\n",
    "TotalBitErrors = 0\n",
    "\n",
    "for RBits in [16]:\n",
    "\n",
    "    print(\"\\n\")\n",
    "    print(\"New File: \" + str(File) + \".wav, RBits=\" + str(RBits))\n",
    "    print(\"WavFile Type: \" + str(Data.dtype))\n",
    "    print(\"Duration: \" + str(Duration))\n",
    "    print(\"Amplitude: \" + str(Amplitude))\n",
    "    print(\"SamplesTaken: \" + str(SamplesTaken))\n",
    "    print(\"\\n\")\n",
    "\n",
    "    IndexTable, VTable, QuantifiedSignal = quantization(RBits, Vmax, SampledSignal, SamplesTaken)\n",
    "    OriginalMessageInBinary = encodingPCM(RBits, IndexTable)\n",
    "\n"
   ]
  },
  {
   "cell_type": "code",
   "execution_count": 41,
   "metadata": {
    "scrolled": false
   },
   "outputs": [
    {
     "data": {
      "text/html": [
       "<br><p>1. Construa uma função que implemente o emissor para o código de linha Manchester. Assuma que a entrada é um Numpy array de bits(com dimensão N), a amplitude do código (A) e o número de pontos (amostras) usado para representar o sinal (P). A saída deverá  ser um Numpy array com o código da sequência (com dimensão N.P).</p>"
      ],
      "text/plain": [
       "<IPython.core.display.HTML object>"
      ]
     },
     "metadata": {},
     "output_type": "display_data"
    },
    {
     "data": {
      "text/html": [
       "<p>[ 1  1  1  1 -1 -1 -1 -1 -1 -1 -1 -1  1  1  1  1  1  1  1  1 -1 -1 -1 -1 -1\n",
       " -1 -1 -1  1  1  1  1 -1 -1 -1 -1  1  1  1  1 -1 -1 -1 -1  1  1  1  1]</p>"
      ],
      "text/plain": [
       "<IPython.core.display.HTML object>"
      ]
     },
     "metadata": {},
     "output_type": "display_data"
    },
    {
     "data": {
      "text/html": [
       "<br>"
      ],
      "text/plain": [
       "<IPython.core.display.HTML object>"
      ]
     },
     "metadata": {},
     "output_type": "display_data"
    },
    {
     "name": "stdout",
     "output_type": "stream",
     "text": [
      "Wall time: 6.99 ms\n"
     ]
    }
   ],
   "source": [
    "%%time\n",
    "\n",
    "display(HTML('<br><p>\\\n",
    "1. Construa uma função que implemente o emissor para o código de linha Manchester. Assuma que a entrada é um Numpy array de bits\\\n",
    "(com dimensão N), a amplitude do código (A) e o número de pontos (amostras) usado para representar o sinal (P). A saída deverá  \\\n",
    "ser um Numpy array com o código da sequência (com dimensão N.P).</p>'\n",
    "))\n",
    "\n",
    "def unitManchesterTemplate(Value, Voltage, Points):\n",
    "    Code = array([  int(Points/2) * ([-1*Voltage]), int(Points/2) * ([Voltage])  ])\n",
    "    if Value == 0:\n",
    "        return Code.flatten() * -1\n",
    "    return Code.flatten()\n",
    "\n",
    "def completeManchesterEncoding(OriginalMessageInBinary):\n",
    "    Result = map(lambda Binary: unitManchesterTemplate(Binary, Voltage, Points), OriginalMessageInBinary)\n",
    "    return hstack(Result)\n",
    "\n",
    "Voltage = 1\n",
    "Points = 8\n",
    "\n",
    "#print(OriginalMessageInBinary)\n",
    "#EncodedMessage = completeManchesterEncoding(OriginalMessageInBinary)\n",
    "#CorrectSize = len(OriginalMessageInBinary) * Points\n",
    "\n",
    "#EncodedMessage = completeManchesterEncoding([0,1])\n",
    "#CorrectSize = len([0,1]) * Points\n",
    "\n",
    "EncodedMessage = completeManchesterEncoding([0,1,0,1,1,1])\n",
    "CorrectSize = len([0,1,0,1,1,1]) * Points\n",
    "\n",
    "display(HTML(\"<p>\" + str(EncodedMessage) + \"</p>\"))\n",
    "display(HTML(\"<br>\"))"
   ]
  },
  {
   "cell_type": "code",
   "execution_count": 42,
   "metadata": {
    "scrolled": false
   },
   "outputs": [
    {
     "data": {
      "text/html": [
       "<br><p>2. Construa uma função que implemente o receptor baseado no filtro adaptado. Este deve receber um código de linha com ruído e deve retornar uma sequência binária. Esta função deve ainda ter como parâmetro de entrada o valor de limiar de decisão (λ).</p>"
      ],
      "text/plain": [
       "<IPython.core.display.HTML object>"
      ]
     },
     "metadata": {},
     "output_type": "display_data"
    },
    {
     "data": {
      "image/png": "[encoded data removed]",
      "text/plain": [
       "<matplotlib.figure.Figure at 0x22000a14ef0>"
      ]
     },
     "metadata": {},
     "output_type": "display_data"
    },
    {
     "data": {
      "image/png": "[encoded data removed]",
      "text/plain": [
       "<matplotlib.figure.Figure at 0x22001874358>"
      ]
     },
     "metadata": {},
     "output_type": "display_data"
    },
    {
     "data": {
      "text/html": [
       "<p>[ 0.92205222  0.67564323  0.59993356  2.45110533 -2.30025165 -1.40809208\n",
       " -2.31781083 -0.56790273 -1.02257056 -2.44125165 -0.71893323  0.07487355\n",
       "  1.08749204  1.44090991  2.59797813  0.82719557 -0.09904449  0.64935638\n",
       "  0.81671517  2.3784737  -1.23954639 -2.98066709 -2.44597181 -1.71745803\n",
       "  0.12170534  0.76753726 -2.25408939 -0.66481108  1.17987494  0.03767173\n",
       "  0.8053315  -0.31795495 -2.00216417 -2.68081336  0.40011694  0.47273691\n",
       "  0.76405715 -0.6406206   1.55699183  0.42769695 -2.22211208 -0.81144944\n",
       " -2.00238647 -0.886572   -0.34435833 -0.28074725  1.01990303 -1.53908459]</p>"
      ],
      "text/plain": [
       "<IPython.core.display.HTML object>"
      ]
     },
     "metadata": {},
     "output_type": "display_data"
    },
    {
     "data": {
      "text/html": [
       "<br>"
      ],
      "text/plain": [
       "<IPython.core.display.HTML object>"
      ]
     },
     "metadata": {},
     "output_type": "display_data"
    },
    {
     "name": "stdout",
     "output_type": "stream",
     "text": [
      "Wall time: 447 ms\n"
     ]
    }
   ],
   "source": [
    "%%time\n",
    "\n",
    "display(HTML('<br><p>\\\n",
    "2. Construa uma função que implemente o receptor baseado no filtro adaptado. Este deve receber um código de linha com ruído e \\\n",
    "deve retornar uma sequência binária. Esta função deve ainda ter como parâmetro de entrada o valor de limiar de decisão (λ).</p>'\n",
    "))\n",
    "\n",
    "def generatingError(EncodedMessage, Sigma, Mean = 0):\n",
    "    \n",
    "    Error = random.normal(Mean, Sigma, len(EncodedMessage))\n",
    "    #print(Error)\n",
    "\n",
    "    plt.figure(figsize=(20, 5), dpi=80, facecolor='1')\n",
    "    Count, Bins, Ignored = plt.hist(Error, 30, histtype='barstacked', color='xkcd:azure', normed=True)\n",
    "    plt.plot(Bins, (1/(Sigma * sqrt(2 * pi)) * exp( - (Bins - Mean)**2 / (2 * Sigma**2) )), linewidth=2, color='xkcd:red orange')\n",
    "    plt.show()\n",
    "    \n",
    "    MessageWithAWGN = Error + EncodedMessage.astype(float64)\n",
    "    \n",
    "    plt.figure(figsize=(20, 2.5), dpi=80, facecolor='1')\n",
    "    plt.plot(MessageWithAWGN, linewidth='0.8', color='xkcd:black')\n",
    "    plt.xticks(arange(0,len(MessageWithAWGN),Points))\n",
    "    plt.xticks(\n",
    "        [x for x in arange(0,len(MessageWithAWGN)+Points,Points)], \n",
    "        ['Tb%i'%x for x in arange(0,(len(MessageWithAWGN)/Points)+1,1)]\n",
    "    )\n",
    "    for VerticalLine in arange(0,len(MessageWithAWGN)+Points,Points): \n",
    "        plt.axvline(x=VerticalLine, color='xkcd:red orange', linestyle='dotted')\n",
    "    plt.show()\n",
    "    return MessageWithAWGN\n",
    "    \n",
    "    \n",
    "StandardDeviation = Sigma = Lambda = DesvioPadrão = sqrt(1)\n",
    "Mean = Média = Mu = 0 \n",
    "# Distribuição normal padronizada - equivale à distribuição normal com mu = 0 e sigma = 1. \n",
    "\n",
    "MessageWithAWGN = generatingError(EncodedMessage, Lambda)\n",
    "display(HTML(\"<p>\" + str(MessageWithAWGN) + \"</p>\"))\n",
    "display(HTML('<br>'))"
   ]
  },
  {
   "cell_type": "code",
   "execution_count": 50,
   "metadata": {},
   "outputs": [
    {
     "data": {
      "image/png": "[encoded data removed]",
      "text/plain": [
       "<matplotlib.figure.Figure at 0x220019caba8>"
      ]
     },
     "metadata": {},
     "output_type": "display_data"
    },
    {
     "data": {
      "text/html": [
       "<p>[ 1.  1.  1.  1. -1. -1. -1. -1. -1. -1. -1. -1.  1.  1.  1.  1.  1.  1.\n",
       "  1.  1. -1. -1. -1. -1. -1. -1. -1. -1.  1.  1.  1.  1. -1. -1. -1. -1.\n",
       "  1.  1.  1.  1. -1. -1. -1. -1.  1.  1.  1.  1.]</p>"
      ],
      "text/plain": [
       "<IPython.core.display.HTML object>"
      ]
     },
     "metadata": {},
     "output_type": "display_data"
    },
    {
     "data": {
      "text/html": [
       "<br>"
      ],
      "text/plain": [
       "<IPython.core.display.HTML object>"
      ]
     },
     "metadata": {},
     "output_type": "display_data"
    },
    {
     "name": "stdout",
     "output_type": "stream",
     "text": [
      "Wall time: 145 ms\n"
     ]
    }
   ],
   "source": [
    "%%time\n",
    "%matplotlib inline\n",
    "def adaptativeFilter(MessageWithAWGN):\n",
    "    \n",
    "    BaseVector = unitManchesterTemplate(([1]), Voltage, Points).astype(float64)\n",
    "    Result = empty(len(MessageWithAWGN))\n",
    "    \n",
    "    for x in range(int(len(MessageWithAWGN)/Points)):\n",
    "        if(dot(MessageWithAWGN[Points * x : Points * (x+1)], BaseVector)) >= 0 :\n",
    "            Result[Points * x : Points * (x+1)] = unitManchesterTemplate(1, Voltage, Points)\n",
    "        else:\n",
    "            Result[Points * x : Points * (x+1)] = unitManchesterTemplate(0, Voltage, Points)\n",
    "            \n",
    "    Result = hstack(Result)\n",
    "\n",
    "    plt.figure(figsize=(20, 2.5), dpi=80, facecolor='1')\n",
    "    plt.plot(Result, linewidth='0.8', color='xkcd:black')\n",
    "    \n",
    "    plt.xticks(arange(0,len(Result),Points))\n",
    "    plt.xticks(\n",
    "        [x for x in arange(0,len(Result)+Points,Points)], \n",
    "        ['Tb%i'%x for x in arange(0,(len(Result)/Points)+1,1)]\n",
    "    )\n",
    "    for VerticalLine in arange(0,len(Result)+Points,Points): \n",
    "        plt.axvline(x=VerticalLine, color='xkcd:red orange', linestyle='dotted')\n",
    "    plt.show()\n",
    "    return Result\n",
    "\n",
    "\n",
    "RecoveredMessage = adaptativeFilter(MessageWithAWGN)\n",
    "display(HTML(\"<p>\" + str(RecoveredMessage) + \"</p>\"))\n",
    "display(HTML('<br>'))"
   ]
  },
  {
   "cell_type": "code",
   "execution_count": 55,
   "metadata": {},
   "outputs": [
    {
     "data": {
      "text/html": [
       "<br><p>3. Adapte as funções anteriores para funcionarem com o código de linha Manchester diferencial."
      ],
      "text/plain": [
       "<IPython.core.display.HTML object>"
      ]
     },
     "metadata": {},
     "output_type": "display_data"
    },
    {
     "data": {
      "text/html": [
       "<p>113379840</p>"
      ],
      "text/plain": [
       "<IPython.core.display.HTML object>"
      ]
     },
     "metadata": {},
     "output_type": "display_data"
    },
    {
     "data": {
      "text/html": [
       "<p>1</p>"
      ],
      "text/plain": [
       "<IPython.core.display.HTML object>"
      ]
     },
     "metadata": {},
     "output_type": "display_data"
    },
    {
     "data": {
      "text/html": [
       "<br>"
      ],
      "text/plain": [
       "<IPython.core.display.HTML object>"
      ]
     },
     "metadata": {},
     "output_type": "display_data"
    },
    {
     "name": "stdout",
     "output_type": "stream",
     "text": [
      "Wall time: 135 ms\n"
     ]
    },
    {
     "data": {
      "image/png": "[encoded data removed]",
      "text/plain": [
       "<matplotlib.figure.Figure at 0x220003e9160>"
      ]
     },
     "metadata": {},
     "output_type": "display_data"
    }
   ],
   "source": [
    "%%time\n",
    "\n",
    "display(HTML('<br><p>\\\n",
    "3. Adapte as funções anteriores para funcionarem com o código de linha Manchester diferencial.'\n",
    "))\n",
    "\n",
    "def ManchesterTemplate(Value, Voltage, Points):\n",
    "    Code = array([  int(Points/2) * ([-1*Voltage]), int(Points/2) * ([Voltage])  ])\n",
    "    if Value == 0:\n",
    "        return Code.flatten() * -1\n",
    "    return Code.flatten()\n",
    "\n",
    "\n",
    "def completeManchesterEncoding(OriginalMessageInBinary, Voltage, Points):\n",
    "    \n",
    "    result = []\n",
    "    previous = 1\n",
    "    for x in OriginalMessageInBinary:\n",
    "        result.append(ManchesterTemplate((x ^ previous), Voltage, Points))\n",
    "        previous = x ^ previous\n",
    "    return hstack(result)\n",
    "\n",
    "    Result = [1]\n",
    "    Result = [ ManchesterTemplate((Binary ^ Result[-1]), Voltage, Points) for Binary in OriginalMessageInBinary ]\n",
    "    return hstack(Result)\n",
    "    return Result\n",
    "\n",
    "Voltage = 5\n",
    "Points = 10\n",
    "EncodedMessage = completeManchesterEncoding([1,0,1,0,0,0,0,1,1,1,1,0,0,1,1], Voltage, Points)\n",
    "CorrectSize = len(OriginalMessageInBinary) * Points\n",
    "plt.figure(figsize=(20, 2.5), dpi=80, facecolor='1')\n",
    "plt.plot(EncodedMessage)\n",
    "\n",
    "display(HTML(\"<p>\" + str(CorrectSize) + \"</p>\"))\n",
    "display(HTML(\"<p>\" + str(len([EncodedMessage])) + \"</p>\"))\n",
    "display(HTML('<br>'))"
   ]
  },
  {
   "cell_type": "code",
   "execution_count": null,
   "metadata": {
    "collapsed": true
   },
   "outputs": [],
   "source": []
  }
 ],
 "metadata": {
  "kernelspec": {
   "display_name": "Python 3",
   "language": "python",
   "name": "python3"
  },
  "language_info": {
   "codemirror_mode": {
    "name": "ipython",
    "version": 3
   },
   "file_extension": ".py",
   "mimetype": "text/x-python",
   "name": "python",
   "nbconvert_exporter": "python",
   "pygments_lexer": "ipython3",
   "version": "3.5.2"
  }
 },
 "nbformat": 4,
 "nbformat_minor": 2
}
