{
 "cells": [
  {
   "cell_type": "code",
   "execution_count": 32,
   "metadata": {
    "collapsed": true,
    "extensions": {
     "jupyter_dashboards": {
      "version": 1,
      "views": {
       "grid_default": {
        "hidden": true
       },
       "report_default": {
        "hidden": true
       }
      }
     }
    }
   },
   "outputs": [],
   "source": [
    "import numpy as np\n",
    "import scipy.io.wavfile as wav\n",
    "from scipy import special\n",
    "import matplotlib.pyplot as plt \n",
    "from IPython.display import IFrame\n",
    "from IPython.core.display import display, HTML\n",
    "from __future__ import print_function\n",
    "from ipywidgets import interact, interactive, fixed, interact_manual\n",
    "import ipywidgets as widgets"
   ]
  },
  {
   "cell_type": "code",
   "execution_count": 39,
   "metadata": {
    "extensions": {
     "jupyter_dashboards": {
      "version": 1,
      "views": {
       "grid_default": {
        "col": 0,
        "height": 41,
        "hidden": false,
        "row": 0,
        "width": 11
       },
       "report_default": {
        "hidden": false
       }
      }
     }
    }
   },
   "outputs": [
    {
     "data": {
      "text/html": [
       "\n",
       "        <iframe\n",
       "            width=\"985\"\n",
       "            height=\"1200\"\n",
       "            src=\"trab_cps_3.pdf\"\n",
       "            frameborder=\"0\"\n",
       "            allowfullscreen\n",
       "        ></iframe>\n",
       "        "
      ],
      "text/plain": [
       "<IPython.lib.display.IFrame at 0x25d274c45f8>"
      ]
     },
     "execution_count": 39,
     "metadata": {},
     "output_type": "execute_result"
    }
   ],
   "source": [
    "IFrame(\"trab_cps_3.pdf\", width=985, height=1200)"
   ]
  },
  {
   "cell_type": "code",
   "execution_count": 42,
   "metadata": {
    "extensions": {
     "jupyter_dashboards": {
      "version": 1,
      "views": {
       "grid_default": {
        "col": 0,
        "height": 9,
        "hidden": false,
        "row": 41,
        "width": 4
       },
       "report_default": {
        "hidden": false
       }
      }
     }
    }
   },
   "outputs": [
    {
     "data": {
      "text/html": [
       "<hr>"
      ],
      "text/plain": [
       "<IPython.core.display.HTML object>"
      ]
     },
     "metadata": {},
     "output_type": "display_data"
    },
    {
     "data": {
      "image/png": "[encoded data removed]",
      "text/plain": [
       "<matplotlib.figure.Figure at 0x25d26b41ac8>"
      ]
     },
     "metadata": {},
     "output_type": "display_data"
    },
    {
     "data": {
      "text/html": [
       "<p>[ 1  1  1  1 -1 -1 -1 -1 -1 -1 -1 -1  1  1  1  1  1  1  1  1 -1 -1 -1 -1 -1\n",
       " -1 -1 -1  1  1  1  1 -1 -1 -1 -1  1  1  1  1 -1 -1 -1 -1  1  1  1  1]</p>"
      ],
      "text/plain": [
       "<IPython.core.display.HTML object>"
      ]
     },
     "metadata": {},
     "output_type": "display_data"
    },
    {
     "data": {
      "text/html": [
       "<br>"
      ],
      "text/plain": [
       "<IPython.core.display.HTML object>"
      ]
     },
     "metadata": {},
     "output_type": "display_data"
    },
    {
     "name": "stdout",
     "output_type": "stream",
     "text": [
      "Wall time: 205 ms\n"
     ]
    }
   ],
   "source": [
    "%%time\n",
    "\n",
    "def manchester_template(value, amp, points):\n",
    "    \n",
    "    p = int(points/2)\n",
    "    codigo_linha = np.array([[-amp]*p, [amp]*p]).flatten()\n",
    " \n",
    "    if(value == 1):\n",
    "        return codigo_linha\n",
    "    else:\n",
    "        return codigo_linha*-1\n",
    "\n",
    "def emissor_manchester(data, amp, points, diferential=False):\n",
    "    \n",
    "    signal = np.zeros(len(data) * points, dtype=int)\n",
    "    val = data[0]\n",
    "\n",
    "    for i in range(len(data)):\n",
    "        \n",
    "        if(diferential and i != 0):\n",
    "            if(data[i] == 1):\n",
    "                val = 1 if val == 0 else 0\n",
    "        else:\n",
    "            val = data[i]\n",
    "        \n",
    "        codigo = manchester_template(val, amp, points)\n",
    "        signal[i * points: (i+1) * points] = codigo\n",
    "            \n",
    "    return signal.astype(int)\n",
    "\n",
    "points = 8\n",
    "amp = 1\n",
    "λ = 0\n",
    "differential = False\n",
    "data = np.array([0, 1, 0, 1, 1, 1])\n",
    "\n",
    "signal = emissor_manchester(data, amp, points, differential) \n",
    "\n",
    "x = np.arange(0,len(signal) + points, points)\n",
    "x_label = ['Tb%i'%x for x in np.arange(0,(len(signal) / points)+1,1)]\n",
    "\n",
    "display(HTML(\"<hr>\"))\n",
    "plt.figure(figsize=(20, 3), dpi = 80)\n",
    "plt.title('Manchester Signal Differential('+str(differential) +') = ' + str(data), fontsize = 20)\n",
    "plt.plot(signal, lw = '0.8', color = 'xkcd:blue')\n",
    "plt.xticks(x, x_label)\n",
    "\n",
    "for v_line in x: \n",
    "    plt.axvline(v_line, color='xkcd:red orange', ls='dotted')\n",
    "\n",
    "#Recta do valor de decisão λ\n",
    "plt.axhline( λ, xmin=0, xmax=1, color='xkcd:black', ls='solid', lw='0.5')\n",
    "\n",
    "plt.show()\n",
    "\n",
    "display(HTML(\"<p>\" + str(signal) + \"</p>\"))\n",
    "display(HTML(\"<br>\"))\n",
    "\n"
   ]
  },
  {
   "cell_type": "code",
   "execution_count": 43,
   "metadata": {
    "extensions": {
     "jupyter_dashboards": {
      "version": 1,
      "views": {
       "grid_default": {
        "col": 11,
        "height": 127,
        "hidden": false,
        "row": 0,
        "width": null
       },
       "report_default": {
        "hidden": false
       }
      }
     }
    },
    "scrolled": false
   },
   "outputs": [
    {
     "data": {
      "application/vnd.jupyter.widget-view+json": {
       "model_id": "74d9a11120d9488ea25625b87d7fc242"
      }
     },
     "metadata": {},
     "output_type": "display_data"
    },
    {
     "name": "stdout",
     "output_type": "stream",
     "text": [
      "Wall time: 643 ms\n"
     ]
    }
   ],
   "source": [
    "%%time\n",
    "\n",
    "decision_value = λ = 0\n",
    "\n",
    "mean = μ = 0 \n",
    "\n",
    "variance_values = [0.1E-5, 0.5, 1, 2, 4, 16, 32]\n",
    "\n",
    "signals_noise = [[0]]*len(variance_values)\n",
    "\n",
    "awgn_noise = [[0]]*len(variance_values)\n",
    "\n",
    "\n",
    "def add_AWGN(signal_without_noise, σ):\n",
    "    \n",
    "    #Equação geradora de ruído\n",
    "    noise = σ * np.random.randn(len(signal_without_noise))\n",
    "    \n",
    "    signal = signal_without_noise + noise\n",
    "    \n",
    "    return signal, noise\n",
    "\n",
    "\n",
    "for x in range(len(variance_values)):\n",
    "    \n",
    "    standard_deviation = σ = np.sqrt(variance_values[x])\n",
    "    \n",
    "    signals_noise[x], awgn_noise[x] = add_AWGN(signal, σ)\n",
    "\n",
    "    \n",
    "def change_display(i):\n",
    "    \n",
    "    display(HTML('<hr>'))\n",
    "    display(HTML(\"<p>Com ${σ}^2$ = \" + str(variance_values[i]) + \",</p>\"))\n",
    "    \n",
    "    Px = np.sum(signals_noise[i]**2.0)/len(signals_noise[i])\n",
    "    display(HTML('<h6>Sinal</h6>'))\n",
    "    display(HTML('<p>Potencia Medida (dB) = ' + str(10 * np.log10(Px/2)) + '<br>' + 'Potencia Teórica (dB) = ' \n",
    "                 + str(10 * np.log10(amp**2)/2) + '</p>'))\n",
    "    \n",
    "    Peq = np.sum(awgn_noise[i]**2.0)/len(awgn_noise[i])\n",
    "    display(HTML('<h6>Ruído</h6>'))\n",
    "    display(HTML('<p>Potencia Medida (dB) = ' + str(10 * np.log10(Peq)) + '<br>' + 'Potencia Teórica (dB) = ' \n",
    "                 + str(10 * np.log10(np.sqrt(variance_values[i])**2)) + '</p>'))\n",
    "    \n",
    "    plt.figure(figsize=(20, 5), dpi=80)\n",
    "    \n",
    "    count, bins, ignored = plt.hist(awgn_noise[i], 30, histtype='barstacked', color='xkcd:azure', normed=True)\n",
    "    \n",
    "    #Função Normal\n",
    "    normal_function =  (1/(np.sqrt(variance_values[i]) * np.sqrt(2 * np.pi)) \\\n",
    "                        * np.exp( - (bins - 0)**2 / (2 * np.sqrt(variance_values[i]) **2) ))\n",
    "    \n",
    "    plt.plot(bins, normal_function, lw=2, color='xkcd:red orange')\n",
    "    \n",
    "    Px = np.sum(signals_noise[i]**2.0)/len(signals_noise[i])\n",
    "    display(HTML('<h6>Sinal com Ruído</h6>'))\n",
    "    display(HTML('<p>Potencia Medida (dB) = ' + str(10 * np.log10(Px)) + '</p>'))\n",
    "    \n",
    "    plt.show()\n",
    "    \n",
    "    x = np.arange(0,len(signals_noise[i])+points, points)\n",
    "    x_label = ['Tb%i'%x for x in np.arange(0, (len(signals_noise[i])/points) + 1, 1)]\n",
    "    \n",
    "    plt.figure(figsize=(20, 3), dpi = 80)\n",
    "    plt.plot(signals_noise[i], lw = '0.8', color = 'xkcd:blue')\n",
    "    plt.xticks(x, x_label)\n",
    "    \n",
    "    for v_line in x: \n",
    "        plt.axvline(v_line, color='xkcd:red orange', ls='dotted')\n",
    "    \n",
    "    #Recta do valor de decisão λ\n",
    "    plt.axhline( λ, xmin=0, xmax=1, color='xkcd:black', ls='solid', lw='0.5')\n",
    "    \n",
    "    display(HTML('<br>'))\n",
    "\n",
    "    plt.show()\n",
    "    \n",
    "interact(change_display, i=widgets.IntSlider(min=0,max=len(variance_values)-1,step=1,value=0));"
   ]
  },
  {
   "cell_type": "code",
   "execution_count": 44,
   "metadata": {
    "extensions": {
     "jupyter_dashboards": {
      "version": 1,
      "views": {
       "grid_default": {
        "col": 0,
        "height": 38,
        "hidden": false,
        "row": 127,
        "width": null
       },
       "report_default": {
        "hidden": false
       }
      }
     }
    },
    "scrolled": false
   },
   "outputs": [
    {
     "data": {
      "application/vnd.jupyter.widget-view+json": {
       "model_id": "6d4810ccbc604b95b719b5c93a6f02f2"
      }
     },
     "metadata": {},
     "output_type": "display_data"
    },
    {
     "name": "stdout",
     "output_type": "stream",
     "text": [
      "Wall time: 240 ms\n"
     ]
    }
   ],
   "source": [
    "%%time\n",
    "\n",
    "def adaptive_filter(signal_with_noise, amp, points):\n",
    "    \n",
    "    base = manchester_template(1, amp, points)\n",
    "    filtered_signal = np.zeros(len(data) * points, dtype=int)\n",
    "    num_slices = int(len(signal_with_noise)/points)\n",
    "    \n",
    "    for i in range(num_slices):\n",
    "        signal_slice = signal_with_noise[i * points : (i + 1) * points]\n",
    "        lam = np.dot(base, signal_slice)\n",
    "        codigo = manchester_template(1 if lam>=0 else 0, amp, points)\n",
    "        signal[i * points: (i+1) * points] = codigo\n",
    "\n",
    "    return signal.astype(int)\n",
    "\n",
    "filtered_signals = [[0]]*len(variance_values)\n",
    "\n",
    "for x in range(len(variance_values)):\n",
    "    \n",
    "    filtered_signal = adaptive_filter(signals_noise[x], amp, points)\n",
    "    \n",
    "    filtered_signals[x] = filtered_signal\n",
    "\n",
    "    \n",
    "def change_display(i):\n",
    "    \n",
    "    display(HTML('<hr>'))\n",
    "    display(HTML(\"<p>Com valor de limiar de decisão (λ) = \" + str(λ)  + \" e com ${σ}^2$ = \" \n",
    "                 + str(variance_values[i]) + \",</p>\"))\n",
    "    \n",
    "    x = np.arange(0,len(filtered_signal) + points, points)\n",
    "    x_label = ['Tb%i'%x for x in np.arange(0,(len(filtered_signal) / points)+1,1)]\n",
    "\n",
    "    plt.figure(figsize=(20, 3), dpi = 80)\n",
    "    plt.plot(filtered_signal, lw = '0.8', color = 'xkcd:blue')\n",
    "    plt.xticks(x, x_label)\n",
    "\n",
    "    for v_line in x: \n",
    "        plt.axvline(v_line, color='xkcd:red orange', ls='dotted')\n",
    "\n",
    "    #Recta do valor de decisão λ\n",
    "    plt.axhline( λ, xmin=0, xmax=1, color='xkcd:black', ls='solid', lw='0.5')\n",
    "\n",
    "    plt.show()\n",
    "    \n",
    "interact(change_display, i=widgets.IntSlider(min=0,max=len(variance_values)-1,step=1,value=0));"
   ]
  },
  {
   "cell_type": "code",
   "execution_count": 45,
   "metadata": {
    "extensions": {
     "jupyter_dashboards": {
      "version": 1,
      "views": {
       "grid_default": {
        "col": 0,
        "height": 36,
        "hidden": false,
        "row": 165,
        "width": null
       },
       "report_default": {
        "hidden": false
       }
      }
     }
    },
    "scrolled": false
   },
   "outputs": [
    {
     "data": {
      "text/html": [
       "<hr>"
      ],
      "text/plain": [
       "<IPython.core.display.HTML object>"
      ]
     },
     "metadata": {},
     "output_type": "display_data"
    },
    {
     "data": {
      "text/html": [
       "<p>Com valor de limiar de decisão (λ) = 0 e com σ = $\\sqrt{1e-06}$,</p>"
      ],
      "text/plain": [
       "<IPython.core.display.HTML object>"
      ]
     },
     "metadata": {},
     "output_type": "display_data"
    },
    {
     "data": {
      "text/html": [
       "<p>$SNR_c$ = 59.9464878012 dB</p>"
      ],
      "text/plain": [
       "<IPython.core.display.HTML object>"
      ]
     },
     "metadata": {},
     "output_type": "display_data"
    },
    {
     "data": {
      "text/html": [
       "<p>Com valor de limiar de decisão (λ) = 0 e com σ = $\\sqrt{0.5}$,</p>"
      ],
      "text/plain": [
       "<IPython.core.display.HTML object>"
      ]
     },
     "metadata": {},
     "output_type": "display_data"
    },
    {
     "data": {
      "text/html": [
       "<p>$SNR_c$ = 2.9583092384 dB</p>"
      ],
      "text/plain": [
       "<IPython.core.display.HTML object>"
      ]
     },
     "metadata": {},
     "output_type": "display_data"
    },
    {
     "data": {
      "text/html": [
       "<p>Com valor de limiar de decisão (λ) = 0 e com σ = $\\sqrt{1}$,</p>"
      ],
      "text/plain": [
       "<IPython.core.display.HTML object>"
      ]
     },
     "metadata": {},
     "output_type": "display_data"
    },
    {
     "data": {
      "text/html": [
       "<p>$SNR_c$ = 0.311040655949 dB</p>"
      ],
      "text/plain": [
       "<IPython.core.display.HTML object>"
      ]
     },
     "metadata": {},
     "output_type": "display_data"
    },
    {
     "data": {
      "text/html": [
       "<p>Com valor de limiar de decisão (λ) = 0 e com σ = $\\sqrt{2}$,</p>"
      ],
      "text/plain": [
       "<IPython.core.display.HTML object>"
      ]
     },
     "metadata": {},
     "output_type": "display_data"
    },
    {
     "data": {
      "text/html": [
       "<p>$SNR_c$ = -3.52021886946 dB</p>"
      ],
      "text/plain": [
       "<IPython.core.display.HTML object>"
      ]
     },
     "metadata": {},
     "output_type": "display_data"
    },
    {
     "data": {
      "text/html": [
       "<p>Com valor de limiar de decisão (λ) = 0 e com σ = $\\sqrt{4}$,</p>"
      ],
      "text/plain": [
       "<IPython.core.display.HTML object>"
      ]
     },
     "metadata": {},
     "output_type": "display_data"
    },
    {
     "data": {
      "text/html": [
       "<p>$SNR_c$ = -6.30651912493 dB</p>"
      ],
      "text/plain": [
       "<IPython.core.display.HTML object>"
      ]
     },
     "metadata": {},
     "output_type": "display_data"
    },
    {
     "data": {
      "text/html": [
       "<p>Com valor de limiar de decisão (λ) = 0 e com σ = $\\sqrt{16}$,</p>"
      ],
      "text/plain": [
       "<IPython.core.display.HTML object>"
      ]
     },
     "metadata": {},
     "output_type": "display_data"
    },
    {
     "data": {
      "text/html": [
       "<p>$SNR_c$ = -12.57319441 dB</p>"
      ],
      "text/plain": [
       "<IPython.core.display.HTML object>"
      ]
     },
     "metadata": {},
     "output_type": "display_data"
    },
    {
     "data": {
      "text/html": [
       "<p>Com valor de limiar de decisão (λ) = 0 e com σ = $\\sqrt{32}$,</p>"
      ],
      "text/plain": [
       "<IPython.core.display.HTML object>"
      ]
     },
     "metadata": {},
     "output_type": "display_data"
    },
    {
     "data": {
      "text/html": [
       "<p>$SNR_c$ = -15.1016553622 dB</p>"
      ],
      "text/plain": [
       "<IPython.core.display.HTML object>"
      ]
     },
     "metadata": {},
     "output_type": "display_data"
    },
    {
     "data": {
      "text/html": [
       "<hr>"
      ],
      "text/plain": [
       "<IPython.core.display.HTML object>"
      ]
     },
     "metadata": {},
     "output_type": "display_data"
    },
    {
     "data": {
      "image/png": "[encoded data removed]",
      "text/plain": [
       "<matplotlib.figure.Figure at 0x25d274f9630>"
      ]
     },
     "metadata": {},
     "output_type": "display_data"
    },
    {
     "name": "stdout",
     "output_type": "stream",
     "text": [
      "Wall time: 754 ms\n"
     ]
    }
   ],
   "source": [
    "%%time\n",
    "def calculate_SNR(signal, err_signal):\n",
    "    \n",
    "    Px = np.sum(signal**2.0)/len(signal)\n",
    "    Perr = np.sum(err_signal**2.0)/len(err_signal)\n",
    "    snrc = 10 * np.log10(Px / Perr)\n",
    "    \n",
    "    return snrc\n",
    "\n",
    "array_snrc = [[0]]*len(variance_values)\n",
    "\n",
    "display(HTML('<hr>'))\n",
    "\n",
    "for i in range(len(signals_noise)):\n",
    "    \n",
    "    snrc = calculate_SNR(signal, awgn_noise[i])\n",
    "    array_snrc[i] = snrc\n",
    "\n",
    "    display(HTML(\"<p>Com valor de limiar de decisão (λ) = \" + str(λ)  \n",
    "                 + \" e com σ = $\\sqrt{\" + str(variance_values[i]) + '}$' + \",</p>\"))\n",
    "    display(HTML(\"<p>$SNR_c$ = \" + str(array_snrc[i]) + \" dB\" + \"</p>\"))\n",
    "    \n",
    "\n",
    "display(HTML('<hr>'))\n",
    "plt.figure(figsize=(20, 8), dpi = 80)\n",
    "x = np.arange(0,len(array_snrc) ,1)\n",
    "x_label = ['${σ}^2$ = %.1f'%x for x in variance_values]\n",
    "plt.xticks(x, x_label, fontsize=15)\n",
    "plt.yticks(fontsize = 15)\n",
    "for v_line in x: \n",
    "    plt.axvline(v_line, color='xkcd:gray', ls='dotted')\n",
    "SNR_c, = plt.plot(array_snrc, lw = '2', color = 'xkcd:green')\n",
    "plt.title('Comparação $SNR_c$', fontsize = 20)\n",
    "plt.legend([SNR_c], [\"$SNR_c$\"], fontsize=15)\n",
    "plt.ylabel('SNR', fontsize = 20)\n",
    "plt.xlabel('${σ}^2$', fontsize = 20)\n",
    "plt.show()\n"
   ]
  },
  {
   "cell_type": "code",
   "execution_count": 47,
   "metadata": {
    "extensions": {
     "jupyter_dashboards": {
      "version": 1,
      "views": {
       "grid_default": {
        "col": 0,
        "height": 52,
        "hidden": false,
        "row": 201,
        "width": null
       },
       "report_default": {
        "hidden": false
       }
      }
     }
    },
    "scrolled": false
   },
   "outputs": [
    {
     "data": {
      "text/html": [
       "<hr>"
      ],
      "text/plain": [
       "<IPython.core.display.HTML object>"
      ]
     },
     "metadata": {},
     "output_type": "display_data"
    },
    {
     "data": {
      "text/html": [
       "<p>Com valor de limiar de decisão (λ) = 0 e com σ = $\\sqrt{1e-06}$,</p>"
      ],
      "text/plain": [
       "<IPython.core.display.HTML object>"
      ]
     },
     "metadata": {},
     "output_type": "display_data"
    },
    {
     "data": {
      "text/html": [
       "<p>BER prático = 0.0<br>BER teórico = 0.0</p>"
      ],
      "text/plain": [
       "<IPython.core.display.HTML object>"
      ]
     },
     "metadata": {},
     "output_type": "display_data"
    },
    {
     "data": {
      "text/html": [
       "<p>Sinal Original    = [0 1 0 1 1 1]<br>Sinal Recebido = [0 1 0 1 1 1]</p>"
      ],
      "text/plain": [
       "<IPython.core.display.HTML object>"
      ]
     },
     "metadata": {},
     "output_type": "display_data"
    },
    {
     "data": {
      "text/html": [
       "<p>Com valor de limiar de decisão (λ) = 0 e com σ = $\\sqrt{0.5}$,</p>"
      ],
      "text/plain": [
       "<IPython.core.display.HTML object>"
      ]
     },
     "metadata": {},
     "output_type": "display_data"
    },
    {
     "data": {
      "text/html": [
       "<p>BER prático = 0.0<br>BER teórico = 3.16712418331e-05</p>"
      ],
      "text/plain": [
       "<IPython.core.display.HTML object>"
      ]
     },
     "metadata": {},
     "output_type": "display_data"
    },
    {
     "data": {
      "text/html": [
       "<p>Sinal Original    = [0 1 0 1 1 1]<br>Sinal Recebido = [0 1 0 1 1 1]</p>"
      ],
      "text/plain": [
       "<IPython.core.display.HTML object>"
      ]
     },
     "metadata": {},
     "output_type": "display_data"
    },
    {
     "data": {
      "text/html": [
       "<p>Com valor de limiar de decisão (λ) = 0 e com σ = $\\sqrt{1}$,</p>"
      ],
      "text/plain": [
       "<IPython.core.display.HTML object>"
      ]
     },
     "metadata": {},
     "output_type": "display_data"
    },
    {
     "data": {
      "text/html": [
       "<p>BER prático = 0.0<br>BER teórico = 0.00233886749052</p>"
      ],
      "text/plain": [
       "<IPython.core.display.HTML object>"
      ]
     },
     "metadata": {},
     "output_type": "display_data"
    },
    {
     "data": {
      "text/html": [
       "<p>Sinal Original    = [0 1 0 1 1 1]<br>Sinal Recebido = [0 1 0 1 1 1]</p>"
      ],
      "text/plain": [
       "<IPython.core.display.HTML object>"
      ]
     },
     "metadata": {},
     "output_type": "display_data"
    },
    {
     "data": {
      "text/html": [
       "<p>Com valor de limiar de decisão (λ) = 0 e com σ = $\\sqrt{2}$,</p>"
      ],
      "text/plain": [
       "<IPython.core.display.HTML object>"
      ]
     },
     "metadata": {},
     "output_type": "display_data"
    },
    {
     "data": {
      "text/html": [
       "<p>BER prático = 0.0<br>BER teórico = 0.0227501319482</p>"
      ],
      "text/plain": [
       "<IPython.core.display.HTML object>"
      ]
     },
     "metadata": {},
     "output_type": "display_data"
    },
    {
     "data": {
      "text/html": [
       "<p>Sinal Original    = [0 1 0 1 1 1]<br>Sinal Recebido = [0 1 0 1 1 1]</p>"
      ],
      "text/plain": [
       "<IPython.core.display.HTML object>"
      ]
     },
     "metadata": {},
     "output_type": "display_data"
    },
    {
     "data": {
      "text/html": [
       "<p>Com valor de limiar de decisão (λ) = 0 e com σ = $\\sqrt{4}$,</p>"
      ],
      "text/plain": [
       "<IPython.core.display.HTML object>"
      ]
     },
     "metadata": {},
     "output_type": "display_data"
    },
    {
     "data": {
      "text/html": [
       "<p>BER prático = 0.166666666667<br>BER teórico = 0.0786496035251</p>"
      ],
      "text/plain": [
       "<IPython.core.display.HTML object>"
      ]
     },
     "metadata": {},
     "output_type": "display_data"
    },
    {
     "data": {
      "text/html": [
       "<p>Sinal Original    = [0 1 0 1 1 1]<br>Sinal Recebido = [0 1 1 1 1 1]</p>"
      ],
      "text/plain": [
       "<IPython.core.display.HTML object>"
      ]
     },
     "metadata": {},
     "output_type": "display_data"
    },
    {
     "data": {
      "text/html": [
       "<p>Com valor de limiar de decisão (λ) = 0 e com σ = $\\sqrt{16}$,</p>"
      ],
      "text/plain": [
       "<IPython.core.display.HTML object>"
      ]
     },
     "metadata": {},
     "output_type": "display_data"
    },
    {
     "data": {
      "text/html": [
       "<p>BER prático = 0.0<br>BER teórico = 0.239750061093</p>"
      ],
      "text/plain": [
       "<IPython.core.display.HTML object>"
      ]
     },
     "metadata": {},
     "output_type": "display_data"
    },
    {
     "data": {
      "text/html": [
       "<p>Sinal Original    = [0 1 0 1 1 1]<br>Sinal Recebido = [0 1 0 1 1 1]</p>"
      ],
      "text/plain": [
       "<IPython.core.display.HTML object>"
      ]
     },
     "metadata": {},
     "output_type": "display_data"
    },
    {
     "data": {
      "text/html": [
       "<p>Com valor de limiar de decisão (λ) = 0 e com σ = $\\sqrt{32}$,</p>"
      ],
      "text/plain": [
       "<IPython.core.display.HTML object>"
      ]
     },
     "metadata": {},
     "output_type": "display_data"
    },
    {
     "data": {
      "text/html": [
       "<p>BER prático = 0.833333333333<br>BER teórico = 0.308537538726</p>"
      ],
      "text/plain": [
       "<IPython.core.display.HTML object>"
      ]
     },
     "metadata": {},
     "output_type": "display_data"
    },
    {
     "data": {
      "text/html": [
       "<p>Sinal Original    = [0 1 0 1 1 1]<br>Sinal Recebido = [0 0 1 0 0 0]</p>"
      ],
      "text/plain": [
       "<IPython.core.display.HTML object>"
      ]
     },
     "metadata": {},
     "output_type": "display_data"
    },
    {
     "data": {
      "text/html": [
       "<hr>"
      ],
      "text/plain": [
       "<IPython.core.display.HTML object>"
      ]
     },
     "metadata": {},
     "output_type": "display_data"
    },
    {
     "data": {
      "image/png": "[encoded data removed]",
      "text/plain": [
       "<matplotlib.figure.Figure at 0x25d26a5bb70>"
      ]
     },
     "metadata": {},
     "output_type": "display_data"
    },
    {
     "name": "stdout",
     "output_type": "stream",
     "text": [
      "Wall time: 671 ms\n"
     ]
    }
   ],
   "source": [
    "%%time\n",
    "def reverse_differential(data):\n",
    "    \n",
    "    new_data = np.zeros(len(data))\n",
    "    new_data[0] = data[0]\n",
    "    new_data[1:] = data[1:] ^ data[:len(data)-1]\n",
    "\n",
    "    return new_data.astype(int)\n",
    "\n",
    "def decoding_manchester(signal_without_noise, amp, points, differential = False):\n",
    "    \n",
    "    base = manchester_template(1, amp, points)\n",
    "    num_slices = int(len(signal_without_noise)/points)\n",
    "    data = np.zeros(num_slices)\n",
    "    \n",
    "    for i in range(num_slices):\n",
    "        signal_slice = signal_without_noise[i * points : (i + 1) * points]\n",
    "        lam = np.dot(base, signal_slice)\n",
    "        data[i] = 1 if lam>=0 else 0\n",
    "    \n",
    "    if(differential):\n",
    "        data = reverse_differential(data.astype(int))\n",
    "    \n",
    "    return data.astype(int)\n",
    "\n",
    "retrieved_data = [[0]]*len(variance_values)\n",
    "BER_praticos = [[0]]*len(variance_values)\n",
    "BER_teoricos = [[0]]*len(variance_values)\n",
    "\n",
    "display(HTML('<hr>'))\n",
    "\n",
    "for i in range(len(filtered_signals)):\n",
    "    \n",
    "    retrieved_data[i] = decoding_manchester(filtered_signals[i], amp, points, differential)\n",
    "\n",
    "    num_of_errors = sum(data.astype(int) ^ retrieved_data[i].astype(int))\n",
    "    BER_pratico = num_of_errors / len(data)\n",
    "    BER_praticos[i] = BER_pratico\n",
    "    \n",
    "    BER_teorico = 0.5 * special.erfc(np.sqrt( ((amp**2)*points)/(2*(variance_values[i])) ))\n",
    "    BER_teoricos[i] = BER_teorico\n",
    "    display(HTML(\"<p>Com valor de limiar de decisão (λ) = \" + str(λ)  \n",
    "                 + \" e com σ = $\\sqrt{\" + str(variance_values[i]) + '}$' + \",</p>\"))\n",
    "    display(HTML(\"<p>BER prático = \" + str(BER_pratico) + \"<br>\" + \"BER teórico = \" + str(BER_teorico) + \"</p>\"))\n",
    "    display(HTML(\"<p>Sinal Original    = \" + str(data) + \"<br>\" + \"Sinal Recebido = \" + str(retrieved_data[i]) + \"</p>\"))\n",
    "    \n",
    "\n",
    "display(HTML('<hr>'))\n",
    "plt.figure(figsize=(20, 8), dpi = 80)\n",
    "\n",
    "x = np.arange(0,len(variance_values),1)\n",
    "x_label = ['${σ}^2$ = %.1f'%x for x in variance_values]\n",
    "plt.xticks(x, x_label, fontsize=15)\n",
    "plt.yticks(fontsize = 15)\n",
    "for v_line in x: \n",
    "    plt.axvline(v_line, color='xkcd:gray', ls='dotted')\n",
    "\n",
    "BER_p, = plt.plot(BER_praticos, lw = '2', color = 'xkcd:blue')\n",
    "BER_t, = plt.plot(BER_teoricos, lw = '2', color = 'xkcd:orange')\n",
    "plt.title('Comparação BER Teórico/Prático', fontsize = 20)\n",
    "plt.legend([BER_p, BER_t],[\"BER Prático\", \"BER Teórico\"], fontsize=15)\n",
    "plt.ylabel('Valores BER', fontsize = 20)\n",
    "plt.show()\n",
    "    "
   ]
  },
  {
   "cell_type": "code",
   "execution_count": 40,
   "metadata": {
    "extensions": {
     "jupyter_dashboards": {
      "version": 1,
      "views": {
       "grid_default": {
        "col": 4,
        "height": 28,
        "hidden": false,
        "row": 41,
        "width": 7
       },
       "report_default": {
        "hidden": false
       }
      }
     }
    }
   },
   "outputs": [
    {
     "data": {
      "text/html": [
       "\n",
       "        <iframe\n",
       "            width=\"900\"\n",
       "            height=\"900\"\n",
       "            src=\"Resolução7.png\"\n",
       "            frameborder=\"0\"\n",
       "            allowfullscreen\n",
       "        ></iframe>\n",
       "        "
      ],
      "text/plain": [
       "<IPython.lib.display.IFrame at 0x25d26ad3ba8>"
      ]
     },
     "execution_count": 40,
     "metadata": {},
     "output_type": "execute_result"
    }
   ],
   "source": [
    "IFrame(\"Resolução7.png\", width=900, height=900)"
   ]
  },
  {
   "cell_type": "code",
   "execution_count": null,
   "metadata": {
    "collapsed": true,
    "extensions": {
     "jupyter_dashboards": {
      "version": 1,
      "views": {
       "grid_default": {
        "hidden": true
       },
       "report_default": {
        "hidden": true
       }
      }
     }
    }
   },
   "outputs": [],
   "source": []
  }
 ],
 "metadata": {
  "extensions": {
   "jupyter_dashboards": {
    "activeView": "grid_default",
    "version": 1,
    "views": {
     "grid_default": {
      "cellMargin": 10,
      "defaultCellHeight": 20,
      "maxColumns": 12,
      "name": "grid",
      "type": "grid"
     },
     "report_default": {
      "name": "report",
      "type": "report"
     }
    }
   }
  },
  "kernelspec": {
   "display_name": "Python 3",
   "language": "python",
   "name": "python3"
  },
  "language_info": {
   "codemirror_mode": {
    "name": "ipython",
    "version": 3
   },
   "file_extension": ".py",
   "mimetype": "text/x-python",
   "name": "python",
   "nbconvert_exporter": "python",
   "pygments_lexer": "ipython3",
   "version": "3.5.2"
  },
  "widgets": {
   "application/vnd.jupyter.widget-state+json": {
    "state": {
     "04c1c8d0e4754b97a9a2984af1258a48": {
      "model_module": "jupyter-js-widgets",
      "model_module_version": "~2.1.4",
      "model_name": "SliderStyleModel",
      "state": {
       "_model_module_version": "~2.1.4",
       "_view_module_version": "~2.1.4"
      }
     },
     "07f6e87c3e644d228be8c95dd74b5ae1": {
      "model_module": "jupyter-js-widgets",
      "model_module_version": "~2.1.4",
      "model_name": "OutputModel",
      "state": {
       "_dom_classes": [],
       "_model_module": "jupyter-js-widgets",
       "_model_module_version": "~2.1.4",
       "_view_module": "jupyter-js-widgets",
       "_view_module_version": "~2.1.4",
       "layout": "IPY_MODEL_85ba174ab9e24504a5b184cc5a457e34",
       "msg_throttle": 1
      }
     },
     "0b4dce58ed9d41549e3546a8b576daa7": {
      "model_module": "jupyter-js-widgets",
      "model_module_version": "~2.1.4",
      "model_name": "LayoutModel",
      "state": {
       "_model_module_version": "~2.1.4",
       "_view_module_version": "~2.1.4"
      }
     },
     "0dd881f332b9448aa8e722eeff571a8d": {
      "model_module": "jupyter-js-widgets",
      "model_module_version": "~2.1.4",
      "model_name": "LayoutModel",
      "state": {
       "_model_module_version": "~2.1.4",
       "_view_module_version": "~2.1.4"
      }
     },
     "0e86c486a88b4d3588d97ddde184cef8": {
      "model_module": "jupyter-js-widgets",
      "model_module_version": "~2.1.4",
      "model_name": "LayoutModel",
      "state": {
       "_model_module_version": "~2.1.4",
       "_view_module_version": "~2.1.4"
      }
     },
     "1d651f7955c6402f9092654994bd347e": {
      "model_module": "jupyter-js-widgets",
      "model_module_version": "~2.1.4",
      "model_name": "LayoutModel",
      "state": {
       "_model_module_version": "~2.1.4",
       "_view_module_version": "~2.1.4"
      }
     },
     "1fdf830e503b45fe8ff951de96383994": {
      "model_module": "jupyter-js-widgets",
      "model_module_version": "~2.1.4",
      "model_name": "OutputModel",
      "state": {
       "_dom_classes": [],
       "_model_module": "jupyter-js-widgets",
       "_model_module_version": "~2.1.4",
       "_view_module": "jupyter-js-widgets",
       "_view_module_version": "~2.1.4",
       "layout": "IPY_MODEL_0e86c486a88b4d3588d97ddde184cef8",
       "msg_throttle": 1
      }
     },
     "21bcb4c1efb84ff7b5e1ee21aeb7309b": {
      "model_module": "jupyter-js-widgets",
      "model_module_version": "~2.1.4",
      "model_name": "OutputModel",
      "state": {
       "_dom_classes": [],
       "_model_module": "jupyter-js-widgets",
       "_model_module_version": "~2.1.4",
       "_view_module": "jupyter-js-widgets",
       "_view_module_version": "~2.1.4",
       "layout": "IPY_MODEL_45a11a61099f4e96957154d58581f546",
       "msg_throttle": 1
      }
     },
     "21e5178e2d2f49dfb5540c5adb8f0730": {
      "model_module": "jupyter-js-widgets",
      "model_module_version": "~2.1.4",
      "model_name": "VBoxModel",
      "state": {
       "_dom_classes": [
        "widget-interact"
       ],
       "_model_module_version": "~2.1.4",
       "_view_module_version": "~2.1.4",
       "children": [
        "IPY_MODEL_39bba6fb5ef04001a3fa337da9cfb0c0",
        "IPY_MODEL_4dcca2362d83456581cd3f5fe75c9f4a"
       ],
       "layout": "IPY_MODEL_4c3567b1a73e4d208b4a1414ac07f259"
      }
     },
     "2388df175e714386bf538c0de319d7a8": {
      "model_module": "jupyter-js-widgets",
      "model_module_version": "~2.1.4",
      "model_name": "LayoutModel",
      "state": {
       "_model_module_version": "~2.1.4",
       "_view_module_version": "~2.1.4"
      }
     },
     "23e9afd9164d4649b62ab2430a0da0e3": {
      "model_module": "jupyter-js-widgets",
      "model_module_version": "~2.1.4",
      "model_name": "OutputModel",
      "state": {
       "_dom_classes": [],
       "_model_module": "jupyter-js-widgets",
       "_model_module_version": "~2.1.4",
       "_view_module": "jupyter-js-widgets",
       "_view_module_version": "~2.1.4",
       "layout": "IPY_MODEL_3fb41bf8f4d6417abc5756c57c468d21",
       "msg_throttle": 1
      }
     },
     "2425f5cca9ba4c679a0767261eab1eb5": {
      "model_module": "jupyter-js-widgets",
      "model_module_version": "~2.1.4",
      "model_name": "LayoutModel",
      "state": {
       "_model_module_version": "~2.1.4",
       "_view_module_version": "~2.1.4"
      }
     },
     "25d6b772ff7b457eaea7ecf5b4992793": {
      "model_module": "jupyter-js-widgets",
      "model_module_version": "~2.1.4",
      "model_name": "VBoxModel",
      "state": {
       "_dom_classes": [
        "widget-interact"
       ],
       "_model_module_version": "~2.1.4",
       "_view_module_version": "~2.1.4",
       "children": [
        "IPY_MODEL_e2b3c122f63e4606a0662d6eaa62ba25",
        "IPY_MODEL_a1a97cc3b6134159a49e2b95886003c9"
       ],
       "layout": "IPY_MODEL_7e094eec8d28476da48e89e244cebc2b"
      }
     },
     "262e5458a5514d6dad4f47cc2c77ee6a": {
      "model_module": "jupyter-js-widgets",
      "model_module_version": "~2.1.4",
      "model_name": "OutputModel",
      "state": {
       "_dom_classes": [],
       "_model_module": "jupyter-js-widgets",
       "_model_module_version": "~2.1.4",
       "_view_module": "jupyter-js-widgets",
       "_view_module_version": "~2.1.4",
       "layout": "IPY_MODEL_7b7fc0682b4b44c6914fbe6c3caf4194",
       "msg_throttle": 1
      }
     },
     "2c6bb5d347bf4aec8282eaee444177fe": {
      "model_module": "jupyter-js-widgets",
      "model_module_version": "~2.1.4",
      "model_name": "SliderStyleModel",
      "state": {
       "_model_module_version": "~2.1.4",
       "_view_module_version": "~2.1.4"
      }
     },
     "2cf0ef83db404c5faf8fc10c331116ee": {
      "model_module": "jupyter-js-widgets",
      "model_module_version": "~2.1.4",
      "model_name": "SliderStyleModel",
      "state": {
       "_model_module_version": "~2.1.4",
       "_view_module_version": "~2.1.4"
      }
     },
     "3373b771b6fe40ad9be479580e2a510c": {
      "model_module": "jupyter-js-widgets",
      "model_module_version": "~2.1.4",
      "model_name": "IntSliderModel",
      "state": {
       "_model_module_version": "~2.1.4",
       "_view_module_version": "~2.1.4",
       "description": "i",
       "layout": "IPY_MODEL_5e753321e8ac440f9fd736f5ed787807",
       "max": 6,
       "style": "IPY_MODEL_ec68b6f91edc45d284e9cff8e1a7d064"
      }
     },
     "3448398928c04a9c9fb7ea0cf6a1900f": {
      "model_module": "jupyter-js-widgets",
      "model_module_version": "~2.1.4",
      "model_name": "LayoutModel",
      "state": {
       "_model_module_version": "~2.1.4",
       "_view_module_version": "~2.1.4"
      }
     },
     "351a79fce8f648439363f31b0745019f": {
      "model_module": "jupyter-js-widgets",
      "model_module_version": "~2.1.4",
      "model_name": "SliderStyleModel",
      "state": {
       "_model_module_version": "~2.1.4",
       "_view_module_version": "~2.1.4"
      }
     },
     "35847073ebc144a59cad49e543194a09": {
      "model_module": "jupyter-js-widgets",
      "model_module_version": "~2.1.4",
      "model_name": "LayoutModel",
      "state": {
       "_model_module_version": "~2.1.4",
       "_view_module_version": "~2.1.4"
      }
     },
     "378883ca5c744761bc5449bde894759f": {
      "model_module": "jupyter-js-widgets",
      "model_module_version": "~2.1.4",
      "model_name": "OutputModel",
      "state": {
       "_dom_classes": [],
       "_model_module": "jupyter-js-widgets",
       "_model_module_version": "~2.1.4",
       "_view_module": "jupyter-js-widgets",
       "_view_module_version": "~2.1.4",
       "layout": "IPY_MODEL_656be0dfa1cb454f9f5ab5746bc304af",
       "msg_throttle": 1
      }
     },
     "39bba6fb5ef04001a3fa337da9cfb0c0": {
      "model_module": "jupyter-js-widgets",
      "model_module_version": "~2.1.4",
      "model_name": "IntSliderModel",
      "state": {
       "_model_module_version": "~2.1.4",
       "_view_module_version": "~2.1.4",
       "description": "i",
       "layout": "IPY_MODEL_1d651f7955c6402f9092654994bd347e",
       "max": 6,
       "style": "IPY_MODEL_2c6bb5d347bf4aec8282eaee444177fe"
      }
     },
     "3a30c19816f947b1b9e2b522b856ad08": {
      "model_module": "jupyter-js-widgets",
      "model_module_version": "~2.1.4",
      "model_name": "VBoxModel",
      "state": {
       "_dom_classes": [
        "widget-interact"
       ],
       "_model_module_version": "~2.1.4",
       "_view_module_version": "~2.1.4",
       "children": [
        "IPY_MODEL_87477382ab5543829a1b2f70bbe39791",
        "IPY_MODEL_8b8ea7525a5f45a5a75a08d99009ce5a"
       ],
       "layout": "IPY_MODEL_a0b708e6919e4c338c2e2fcb75bfd79c"
      }
     },
     "3cef74add4154b4085266c04acd33fd0": {
      "model_module": "jupyter-js-widgets",
      "model_module_version": "~2.1.4",
      "model_name": "SliderStyleModel",
      "state": {
       "_model_module_version": "~2.1.4",
       "_view_module_version": "~2.1.4"
      }
     },
     "3d11a277d5e3470b8dd0a00a5007d13a": {
      "model_module": "jupyter-js-widgets",
      "model_module_version": "~2.1.4",
      "model_name": "SliderStyleModel",
      "state": {
       "_model_module_version": "~2.1.4",
       "_view_module_version": "~2.1.4"
      }
     },
     "3f79bbe7934e48919ece4efbf765e5c5": {
      "model_module": "jupyter-js-widgets",
      "model_module_version": "~2.1.4",
      "model_name": "LayoutModel",
      "state": {
       "_model_module_version": "~2.1.4",
       "_view_module_version": "~2.1.4"
      }
     },
     "3fb41bf8f4d6417abc5756c57c468d21": {
      "model_module": "jupyter-js-widgets",
      "model_module_version": "~2.1.4",
      "model_name": "LayoutModel",
      "state": {
       "_model_module_version": "~2.1.4",
       "_view_module_version": "~2.1.4"
      }
     },
     "400de55a62db444baca6406cc5c159e7": {
      "model_module": "jupyter-js-widgets",
      "model_module_version": "~2.1.4",
      "model_name": "VBoxModel",
      "state": {
       "_dom_classes": [
        "widget-interact"
       ],
       "_model_module_version": "~2.1.4",
       "_view_module_version": "~2.1.4",
       "children": [
        "IPY_MODEL_9876e913d90a43a9b5135f63d03609a4",
        "IPY_MODEL_e04b59da395344c8beaea97c8e7fc9ff"
       ],
       "layout": "IPY_MODEL_9a41fb308dbb46389006591a32325c86"
      }
     },
     "402d1d0d90ed433894eb307ceb0d2382": {
      "model_module": "jupyter-js-widgets",
      "model_module_version": "~2.1.4",
      "model_name": "LayoutModel",
      "state": {
       "_model_module_version": "~2.1.4",
       "_view_module_version": "~2.1.4"
      }
     },
     "443dfe53c8254943b190625f00edd89f": {
      "model_module": "jupyter-js-widgets",
      "model_module_version": "~2.1.4",
      "model_name": "SliderStyleModel",
      "state": {
       "_model_module_version": "~2.1.4",
       "_view_module_version": "~2.1.4"
      }
     },
     "44d17da3cef642c8b44d036a105ae8c2": {
      "model_module": "jupyter-js-widgets",
      "model_module_version": "~2.1.4",
      "model_name": "IntSliderModel",
      "state": {
       "_model_module_version": "~2.1.4",
       "_view_module_version": "~2.1.4",
       "description": "i",
       "layout": "IPY_MODEL_ee492dd0412245a9a674f1536e7a3260",
       "max": 6,
       "style": "IPY_MODEL_3d11a277d5e3470b8dd0a00a5007d13a"
      }
     },
     "45089d1c537a450aa8ab6e5c2075b5d7": {
      "model_module": "jupyter-js-widgets",
      "model_module_version": "~2.1.4",
      "model_name": "LayoutModel",
      "state": {
       "_model_module_version": "~2.1.4",
       "_view_module_version": "~2.1.4"
      }
     },
     "45a11a61099f4e96957154d58581f546": {
      "model_module": "jupyter-js-widgets",
      "model_module_version": "~2.1.4",
      "model_name": "LayoutModel",
      "state": {
       "_model_module_version": "~2.1.4",
       "_view_module_version": "~2.1.4"
      }
     },
     "46fb4ded6fc24981ab4c651e8678b70a": {
      "model_module": "jupyter-js-widgets",
      "model_module_version": "~2.1.4",
      "model_name": "VBoxModel",
      "state": {
       "_dom_classes": [
        "widget-interact"
       ],
       "_model_module_version": "~2.1.4",
       "_view_module_version": "~2.1.4",
       "children": [
        "IPY_MODEL_44d17da3cef642c8b44d036a105ae8c2",
        "IPY_MODEL_23e9afd9164d4649b62ab2430a0da0e3"
       ],
       "layout": "IPY_MODEL_9892893ea55c4143ac4bf956832c3a3b"
      }
     },
     "4705517b08354affaa703022630e2d73": {
      "model_module": "jupyter-js-widgets",
      "model_module_version": "~2.1.4",
      "model_name": "LayoutModel",
      "state": {
       "_model_module_version": "~2.1.4",
       "_view_module_version": "~2.1.4"
      }
     },
     "476ebd9e8dd1433e96aa069d76b34e71": {
      "model_module": "jupyter-js-widgets",
      "model_module_version": "~2.1.4",
      "model_name": "LayoutModel",
      "state": {
       "_model_module_version": "~2.1.4",
       "_view_module_version": "~2.1.4"
      }
     },
     "497f939e9d664a1fab685eb7a75d8560": {
      "model_module": "jupyter-js-widgets",
      "model_module_version": "~2.1.4",
      "model_name": "OutputModel",
      "state": {
       "_dom_classes": [],
       "_model_module": "jupyter-js-widgets",
       "_model_module_version": "~2.1.4",
       "_view_module": "jupyter-js-widgets",
       "_view_module_version": "~2.1.4",
       "layout": "IPY_MODEL_60861b92ad73445ea7921289964f2d0a",
       "msg_throttle": 1
      }
     },
     "4c3567b1a73e4d208b4a1414ac07f259": {
      "model_module": "jupyter-js-widgets",
      "model_module_version": "~2.1.4",
      "model_name": "LayoutModel",
      "state": {
       "_model_module_version": "~2.1.4",
       "_view_module_version": "~2.1.4"
      }
     },
     "4d27eb04c1324bbd8b133b42da57c4b7": {
      "model_module": "jupyter-js-widgets",
      "model_module_version": "~2.1.4",
      "model_name": "VBoxModel",
      "state": {
       "_dom_classes": [
        "widget-interact"
       ],
       "_model_module_version": "~2.1.4",
       "_view_module_version": "~2.1.4",
       "children": [
        "IPY_MODEL_744aebf7a5114155bbcbe2a082ee3e78",
        "IPY_MODEL_1fdf830e503b45fe8ff951de96383994"
       ],
       "layout": "IPY_MODEL_821604d79a1845d9a8b16c08c34a72f9"
      }
     },
     "4dcca2362d83456581cd3f5fe75c9f4a": {
      "model_module": "jupyter-js-widgets",
      "model_module_version": "~2.1.4",
      "model_name": "OutputModel",
      "state": {
       "_dom_classes": [],
       "_model_module": "jupyter-js-widgets",
       "_model_module_version": "~2.1.4",
       "_view_module": "jupyter-js-widgets",
       "_view_module_version": "~2.1.4",
       "layout": "IPY_MODEL_45089d1c537a450aa8ab6e5c2075b5d7",
       "msg_throttle": 1
      }
     },
     "4f1d6380f0c3483487f9121224e4e23a": {
      "model_module": "jupyter-js-widgets",
      "model_module_version": "~2.1.4",
      "model_name": "SliderStyleModel",
      "state": {
       "_model_module_version": "~2.1.4",
       "_view_module_version": "~2.1.4"
      }
     },
     "5219fac31a904e2bb1377669b882480e": {
      "model_module": "jupyter-js-widgets",
      "model_module_version": "~2.1.4",
      "model_name": "IntSliderModel",
      "state": {
       "_model_module_version": "~2.1.4",
       "_view_module_version": "~2.1.4",
       "description": "i",
       "layout": "IPY_MODEL_cd9fc7278f804d4f9289f9885a2a4974",
       "max": 6,
       "style": "IPY_MODEL_a4606a02381d42928a8de618b1333cea"
      }
     },
     "526bc16bf16f491fb0d9610fc1e13b8e": {
      "model_module": "jupyter-js-widgets",
      "model_module_version": "~2.1.4",
      "model_name": "OutputModel",
      "state": {
       "_dom_classes": [],
       "_model_module": "jupyter-js-widgets",
       "_model_module_version": "~2.1.4",
       "_view_module": "jupyter-js-widgets",
       "_view_module_version": "~2.1.4",
       "layout": "IPY_MODEL_35847073ebc144a59cad49e543194a09",
       "msg_throttle": 1
      }
     },
     "546dc46f06d34fe5ba7822caaecbc0a4": {
      "model_module": "jupyter-js-widgets",
      "model_module_version": "~2.1.4",
      "model_name": "LayoutModel",
      "state": {
       "_model_module_version": "~2.1.4",
       "_view_module_version": "~2.1.4"
      }
     },
     "5772b421a50f48a29140c5fc2c3d72ca": {
      "model_module": "jupyter-js-widgets",
      "model_module_version": "~2.1.4",
      "model_name": "VBoxModel",
      "state": {
       "_dom_classes": [
        "widget-interact"
       ],
       "_model_module_version": "~2.1.4",
       "_view_module_version": "~2.1.4",
       "children": [
        "IPY_MODEL_5219fac31a904e2bb1377669b882480e",
        "IPY_MODEL_d002d6c4f9154a838263f24e5ff6831f"
       ],
       "layout": "IPY_MODEL_c798bfda351346808c198550c9cceed3"
      }
     },
     "5b45bccb6a804a40bb1d0736f691b526": {
      "model_module": "jupyter-js-widgets",
      "model_module_version": "~2.1.4",
      "model_name": "SliderStyleModel",
      "state": {
       "_model_module_version": "~2.1.4",
       "_view_module_version": "~2.1.4"
      }
     },
     "5e753321e8ac440f9fd736f5ed787807": {
      "model_module": "jupyter-js-widgets",
      "model_module_version": "~2.1.4",
      "model_name": "LayoutModel",
      "state": {
       "_model_module_version": "~2.1.4",
       "_view_module_version": "~2.1.4"
      }
     },
     "5f2df065b56b47458f4777b7ed684e8c": {
      "model_module": "jupyter-js-widgets",
      "model_module_version": "~2.1.4",
      "model_name": "LayoutModel",
      "state": {
       "_model_module_version": "~2.1.4",
       "_view_module_version": "~2.1.4"
      }
     },
     "607163f4ce8b419f9c1dff797bede60a": {
      "model_module": "jupyter-js-widgets",
      "model_module_version": "~2.1.4",
      "model_name": "VBoxModel",
      "state": {
       "_dom_classes": [
        "widget-interact"
       ],
       "_model_module_version": "~2.1.4",
       "_view_module_version": "~2.1.4",
       "children": [
        "IPY_MODEL_9f75a9e5d7174bab93557aa25e8f0897",
        "IPY_MODEL_378883ca5c744761bc5449bde894759f"
       ],
       "layout": "IPY_MODEL_476ebd9e8dd1433e96aa069d76b34e71"
      }
     },
     "60861b92ad73445ea7921289964f2d0a": {
      "model_module": "jupyter-js-widgets",
      "model_module_version": "~2.1.4",
      "model_name": "LayoutModel",
      "state": {
       "_model_module_version": "~2.1.4",
       "_view_module_version": "~2.1.4"
      }
     },
     "656be0dfa1cb454f9f5ab5746bc304af": {
      "model_module": "jupyter-js-widgets",
      "model_module_version": "~2.1.4",
      "model_name": "LayoutModel",
      "state": {
       "_model_module_version": "~2.1.4",
       "_view_module_version": "~2.1.4"
      }
     },
     "65e828ce3a074f60860b9b88eff34f39": {
      "model_module": "jupyter-js-widgets",
      "model_module_version": "~2.1.4",
      "model_name": "LayoutModel",
      "state": {
       "_model_module_version": "~2.1.4",
       "_view_module_version": "~2.1.4"
      }
     },
     "6b6f0d37114a4d43b16c574f5adf7b47": {
      "model_module": "jupyter-js-widgets",
      "model_module_version": "~2.1.4",
      "model_name": "VBoxModel",
      "state": {
       "_dom_classes": [
        "widget-interact"
       ],
       "_model_module_version": "~2.1.4",
       "_view_module_version": "~2.1.4",
       "children": [
        "IPY_MODEL_3373b771b6fe40ad9be479580e2a510c",
        "IPY_MODEL_21bcb4c1efb84ff7b5e1ee21aeb7309b"
       ],
       "layout": "IPY_MODEL_8ed920c070634deab39638cb977427f5"
      }
     },
     "6d4810ccbc604b95b719b5c93a6f02f2": {
      "model_module": "jupyter-js-widgets",
      "model_module_version": "~2.1.4",
      "model_name": "VBoxModel",
      "state": {
       "_dom_classes": [
        "widget-interact"
       ],
       "_model_module_version": "~2.1.4",
       "_view_module_version": "~2.1.4",
       "children": [
        "IPY_MODEL_fa8b3fe2baac4e938784fd99ef8b0f74",
        "IPY_MODEL_526bc16bf16f491fb0d9610fc1e13b8e"
       ],
       "layout": "IPY_MODEL_3f79bbe7934e48919ece4efbf765e5c5"
      }
     },
     "7117d40067684f5ca176fccefe2e2726": {
      "model_module": "jupyter-js-widgets",
      "model_module_version": "~2.1.4",
      "model_name": "VBoxModel",
      "state": {
       "_dom_classes": [
        "widget-interact"
       ],
       "_model_module_version": "~2.1.4",
       "_view_module_version": "~2.1.4",
       "children": [
        "IPY_MODEL_91e342e45ad64032a2db5565489c0a90",
        "IPY_MODEL_ce7885f55d754d3e917db1e5cc70031e"
       ],
       "layout": "IPY_MODEL_850c4025239a485388c39ef2420ded09"
      }
     },
     "73702b825a2f48ebbd3820382df00d1c": {
      "model_module": "jupyter-js-widgets",
      "model_module_version": "~2.1.4",
      "model_name": "LayoutModel",
      "state": {
       "_model_module_version": "~2.1.4",
       "_view_module_version": "~2.1.4"
      }
     },
     "738c6be32d2745f083ae1edadb3b570d": {
      "model_module": "jupyter-js-widgets",
      "model_module_version": "~2.1.4",
      "model_name": "LayoutModel",
      "state": {
       "_model_module_version": "~2.1.4",
       "_view_module_version": "~2.1.4"
      }
     },
     "744aebf7a5114155bbcbe2a082ee3e78": {
      "model_module": "jupyter-js-widgets",
      "model_module_version": "~2.1.4",
      "model_name": "IntSliderModel",
      "state": {
       "_model_module_version": "~2.1.4",
       "_view_module_version": "~2.1.4",
       "description": "i",
       "layout": "IPY_MODEL_0b4dce58ed9d41549e3546a8b576daa7",
       "max": 6,
       "style": "IPY_MODEL_ac3bb37b51d442b8911e61e1590d0721"
      }
     },
     "74d9a11120d9488ea25625b87d7fc242": {
      "model_module": "jupyter-js-widgets",
      "model_module_version": "~2.1.4",
      "model_name": "VBoxModel",
      "state": {
       "_dom_classes": [
        "widget-interact"
       ],
       "_model_module_version": "~2.1.4",
       "_view_module_version": "~2.1.4",
       "children": [
        "IPY_MODEL_cbaead89be034702bd1469bbe2df5b5b",
        "IPY_MODEL_d5d767a74fd24d5e97fa57b5cd57b1d3"
       ],
       "layout": "IPY_MODEL_8267f3ddd4fd4af4ba32099b8f9f5610"
      }
     },
     "75cabbee84334d039635fccba5ece2f5": {
      "model_module": "jupyter-js-widgets",
      "model_module_version": "~2.1.4",
      "model_name": "LayoutModel",
      "state": {
       "_model_module_version": "~2.1.4",
       "_view_module_version": "~2.1.4"
      }
     },
     "760c22b70d7a4152be4da834290479c2": {
      "model_module": "jupyter-js-widgets",
      "model_module_version": "~2.1.4",
      "model_name": "LayoutModel",
      "state": {
       "_model_module_version": "~2.1.4",
       "_view_module_version": "~2.1.4"
      }
     },
     "767da70b0bde4f18846b34281e9df033": {
      "model_module": "jupyter-js-widgets",
      "model_module_version": "~2.1.4",
      "model_name": "LayoutModel",
      "state": {
       "_model_module_version": "~2.1.4",
       "_view_module_version": "~2.1.4"
      }
     },
     "7b7fc0682b4b44c6914fbe6c3caf4194": {
      "model_module": "jupyter-js-widgets",
      "model_module_version": "~2.1.4",
      "model_name": "LayoutModel",
      "state": {
       "_model_module_version": "~2.1.4",
       "_view_module_version": "~2.1.4"
      }
     },
     "7c083238194a44d08edd449ba8996283": {
      "model_module": "jupyter-js-widgets",
      "model_module_version": "~2.1.4",
      "model_name": "SliderStyleModel",
      "state": {
       "_model_module_version": "~2.1.4",
       "_view_module_version": "~2.1.4"
      }
     },
     "7e094eec8d28476da48e89e244cebc2b": {
      "model_module": "jupyter-js-widgets",
      "model_module_version": "~2.1.4",
      "model_name": "LayoutModel",
      "state": {
       "_model_module_version": "~2.1.4",
       "_view_module_version": "~2.1.4"
      }
     },
     "821604d79a1845d9a8b16c08c34a72f9": {
      "model_module": "jupyter-js-widgets",
      "model_module_version": "~2.1.4",
      "model_name": "LayoutModel",
      "state": {
       "_model_module_version": "~2.1.4",
       "_view_module_version": "~2.1.4"
      }
     },
     "8267f3ddd4fd4af4ba32099b8f9f5610": {
      "model_module": "jupyter-js-widgets",
      "model_module_version": "~2.1.4",
      "model_name": "LayoutModel",
      "state": {
       "_model_module_version": "~2.1.4",
       "_view_module_version": "~2.1.4"
      }
     },
     "8283f58a08c9491c9ea8418db6a836eb": {
      "model_module": "jupyter-js-widgets",
      "model_module_version": "~2.1.4",
      "model_name": "SliderStyleModel",
      "state": {
       "_model_module_version": "~2.1.4",
       "_view_module_version": "~2.1.4"
      }
     },
     "84040ce16c304fccbb2fa3e71f748017": {
      "model_module": "jupyter-js-widgets",
      "model_module_version": "~2.1.4",
      "model_name": "IntSliderModel",
      "state": {
       "_model_module_version": "~2.1.4",
       "_view_module_version": "~2.1.4",
       "description": "i",
       "layout": "IPY_MODEL_0dd881f332b9448aa8e722eeff571a8d",
       "max": 6,
       "style": "IPY_MODEL_fa7eb721573e40caa1f81c0c7db10895"
      }
     },
     "848d15f22c1f4c7295ee13c8063a32ff": {
      "model_module": "jupyter-js-widgets",
      "model_module_version": "~2.1.4",
      "model_name": "IntSliderModel",
      "state": {
       "_model_module_version": "~2.1.4",
       "_view_module_version": "~2.1.4",
       "description": "i",
       "layout": "IPY_MODEL_767da70b0bde4f18846b34281e9df033",
       "max": 6,
       "style": "IPY_MODEL_eb567909319e4c819c5e60a3f1220353"
      }
     },
     "850c4025239a485388c39ef2420ded09": {
      "model_module": "jupyter-js-widgets",
      "model_module_version": "~2.1.4",
      "model_name": "LayoutModel",
      "state": {
       "_model_module_version": "~2.1.4",
       "_view_module_version": "~2.1.4"
      }
     },
     "85ba174ab9e24504a5b184cc5a457e34": {
      "model_module": "jupyter-js-widgets",
      "model_module_version": "~2.1.4",
      "model_name": "LayoutModel",
      "state": {
       "_model_module_version": "~2.1.4",
       "_view_module_version": "~2.1.4"
      }
     },
     "87477382ab5543829a1b2f70bbe39791": {
      "model_module": "jupyter-js-widgets",
      "model_module_version": "~2.1.4",
      "model_name": "IntSliderModel",
      "state": {
       "_model_module_version": "~2.1.4",
       "_view_module_version": "~2.1.4",
       "description": "i",
       "layout": "IPY_MODEL_90fd014dbb074804ac8accbc0c747065",
       "max": 6,
       "style": "IPY_MODEL_351a79fce8f648439363f31b0745019f"
      }
     },
     "8b8ea7525a5f45a5a75a08d99009ce5a": {
      "model_module": "jupyter-js-widgets",
      "model_module_version": "~2.1.4",
      "model_name": "OutputModel",
      "state": {
       "_dom_classes": [],
       "_model_module": "jupyter-js-widgets",
       "_model_module_version": "~2.1.4",
       "_view_module": "jupyter-js-widgets",
       "_view_module_version": "~2.1.4",
       "layout": "IPY_MODEL_738c6be32d2745f083ae1edadb3b570d",
       "msg_throttle": 1
      }
     },
     "8e1bdee8b5ea4516858f3c150e19279c": {
      "model_module": "jupyter-js-widgets",
      "model_module_version": "~2.1.4",
      "model_name": "LayoutModel",
      "state": {
       "_model_module_version": "~2.1.4",
       "_view_module_version": "~2.1.4"
      }
     },
     "8ed920c070634deab39638cb977427f5": {
      "model_module": "jupyter-js-widgets",
      "model_module_version": "~2.1.4",
      "model_name": "LayoutModel",
      "state": {
       "_model_module_version": "~2.1.4",
       "_view_module_version": "~2.1.4"
      }
     },
     "90fd014dbb074804ac8accbc0c747065": {
      "model_module": "jupyter-js-widgets",
      "model_module_version": "~2.1.4",
      "model_name": "LayoutModel",
      "state": {
       "_model_module_version": "~2.1.4",
       "_view_module_version": "~2.1.4"
      }
     },
     "91e342e45ad64032a2db5565489c0a90": {
      "model_module": "jupyter-js-widgets",
      "model_module_version": "~2.1.4",
      "model_name": "IntSliderModel",
      "state": {
       "_model_module_version": "~2.1.4",
       "_view_module_version": "~2.1.4",
       "description": "i",
       "layout": "IPY_MODEL_8e1bdee8b5ea4516858f3c150e19279c",
       "max": 6,
       "style": "IPY_MODEL_4f1d6380f0c3483487f9121224e4e23a"
      }
     },
     "9876e913d90a43a9b5135f63d03609a4": {
      "model_module": "jupyter-js-widgets",
      "model_module_version": "~2.1.4",
      "model_name": "IntSliderModel",
      "state": {
       "_model_module_version": "~2.1.4",
       "_view_module_version": "~2.1.4",
       "description": "i",
       "layout": "IPY_MODEL_2388df175e714386bf538c0de319d7a8",
       "max": 6,
       "style": "IPY_MODEL_f358d120b3f146338af3254fece2df3f"
      }
     },
     "9892893ea55c4143ac4bf956832c3a3b": {
      "model_module": "jupyter-js-widgets",
      "model_module_version": "~2.1.4",
      "model_name": "LayoutModel",
      "state": {
       "_model_module_version": "~2.1.4",
       "_view_module_version": "~2.1.4"
      }
     },
     "992ffe7cdb414251a6389cc78f40d9c4": {
      "model_module": "jupyter-js-widgets",
      "model_module_version": "~2.1.4",
      "model_name": "VBoxModel",
      "state": {
       "_dom_classes": [
        "widget-interact"
       ],
       "_model_module_version": "~2.1.4",
       "_view_module_version": "~2.1.4",
       "children": [
        "IPY_MODEL_84040ce16c304fccbb2fa3e71f748017",
        "IPY_MODEL_497f939e9d664a1fab685eb7a75d8560"
       ],
       "layout": "IPY_MODEL_cb4cb6117390485a999f4342e4776a8e"
      }
     },
     "9a41fb308dbb46389006591a32325c86": {
      "model_module": "jupyter-js-widgets",
      "model_module_version": "~2.1.4",
      "model_name": "LayoutModel",
      "state": {
       "_model_module_version": "~2.1.4",
       "_view_module_version": "~2.1.4"
      }
     },
     "9d32bb9d8f1748138148f1ae59eb745d": {
      "model_module": "jupyter-js-widgets",
      "model_module_version": "~2.1.4",
      "model_name": "IntSliderModel",
      "state": {
       "_model_module_version": "~2.1.4",
       "_view_module_version": "~2.1.4",
       "description": "i",
       "layout": "IPY_MODEL_a7af53374a134e52bdd7567486277f57",
       "max": 6,
       "style": "IPY_MODEL_8283f58a08c9491c9ea8418db6a836eb"
      }
     },
     "9f75a9e5d7174bab93557aa25e8f0897": {
      "model_module": "jupyter-js-widgets",
      "model_module_version": "~2.1.4",
      "model_name": "IntSliderModel",
      "state": {
       "_model_module_version": "~2.1.4",
       "_view_module_version": "~2.1.4",
       "description": "i",
       "layout": "IPY_MODEL_d151063c2c49413986712483deb65962",
       "max": 6,
       "style": "IPY_MODEL_a91fdb2ba53040db8f219937cbef9445"
      }
     },
     "a07d5e4708324748ad44bb4e7c4c19dd": {
      "model_module": "jupyter-js-widgets",
      "model_module_version": "~2.1.4",
      "model_name": "LayoutModel",
      "state": {
       "_model_module_version": "~2.1.4",
       "_view_module_version": "~2.1.4"
      }
     },
     "a0b708e6919e4c338c2e2fcb75bfd79c": {
      "model_module": "jupyter-js-widgets",
      "model_module_version": "~2.1.4",
      "model_name": "LayoutModel",
      "state": {
       "_model_module_version": "~2.1.4",
       "_view_module_version": "~2.1.4"
      }
     },
     "a14845cb74784dd296bcee4118ffa413": {
      "model_module": "jupyter-js-widgets",
      "model_module_version": "~2.1.4",
      "model_name": "LayoutModel",
      "state": {
       "_model_module_version": "~2.1.4",
       "_view_module_version": "~2.1.4"
      }
     },
     "a1988a031ba3444b8e8047091ee169c6": {
      "model_module": "jupyter-js-widgets",
      "model_module_version": "~2.1.4",
      "model_name": "VBoxModel",
      "state": {
       "_dom_classes": [
        "widget-interact"
       ],
       "_model_module_version": "~2.1.4",
       "_view_module_version": "~2.1.4",
       "children": [
        "IPY_MODEL_afd2880bc5724fccb0a6a71ab499133c",
        "IPY_MODEL_df41f2c9bbd5489d90be5189cb0ecbd8"
       ],
       "layout": "IPY_MODEL_e80ae0b3cd464b2fb34e9f3dd4dd8d9e"
      }
     },
     "a1a97cc3b6134159a49e2b95886003c9": {
      "model_module": "jupyter-js-widgets",
      "model_module_version": "~2.1.4",
      "model_name": "OutputModel",
      "state": {
       "_dom_classes": [],
       "_model_module": "jupyter-js-widgets",
       "_model_module_version": "~2.1.4",
       "_view_module": "jupyter-js-widgets",
       "_view_module_version": "~2.1.4",
       "layout": "IPY_MODEL_73702b825a2f48ebbd3820382df00d1c",
       "msg_throttle": 1
      }
     },
     "a23a55340f264bd8a748a394c31d7af0": {
      "model_module": "jupyter-js-widgets",
      "model_module_version": "~2.1.4",
      "model_name": "IntSliderModel",
      "state": {
       "_model_module_version": "~2.1.4",
       "_view_module_version": "~2.1.4",
       "description": "i",
       "layout": "IPY_MODEL_3448398928c04a9c9fb7ea0cf6a1900f",
       "max": 6,
       "style": "IPY_MODEL_2cf0ef83db404c5faf8fc10c331116ee"
      }
     },
     "a44355541ad34533abd1914e4fb9e11f": {
      "model_module": "jupyter-js-widgets",
      "model_module_version": "~2.1.4",
      "model_name": "OutputModel",
      "state": {
       "_dom_classes": [],
       "_model_module": "jupyter-js-widgets",
       "_model_module_version": "~2.1.4",
       "_view_module": "jupyter-js-widgets",
       "_view_module_version": "~2.1.4",
       "layout": "IPY_MODEL_402d1d0d90ed433894eb307ceb0d2382",
       "msg_throttle": 1
      }
     },
     "a4606a02381d42928a8de618b1333cea": {
      "model_module": "jupyter-js-widgets",
      "model_module_version": "~2.1.4",
      "model_name": "SliderStyleModel",
      "state": {
       "_model_module_version": "~2.1.4",
       "_view_module_version": "~2.1.4"
      }
     },
     "a735dbfcdc3a4107bf72d39948c14929": {
      "model_module": "jupyter-js-widgets",
      "model_module_version": "~2.1.4",
      "model_name": "LayoutModel",
      "state": {
       "_model_module_version": "~2.1.4",
       "_view_module_version": "~2.1.4"
      }
     },
     "a7af53374a134e52bdd7567486277f57": {
      "model_module": "jupyter-js-widgets",
      "model_module_version": "~2.1.4",
      "model_name": "LayoutModel",
      "state": {
       "_model_module_version": "~2.1.4",
       "_view_module_version": "~2.1.4"
      }
     },
     "a91fdb2ba53040db8f219937cbef9445": {
      "model_module": "jupyter-js-widgets",
      "model_module_version": "~2.1.4",
      "model_name": "SliderStyleModel",
      "state": {
       "_model_module_version": "~2.1.4",
       "_view_module_version": "~2.1.4"
      }
     },
     "ac3bb37b51d442b8911e61e1590d0721": {
      "model_module": "jupyter-js-widgets",
      "model_module_version": "~2.1.4",
      "model_name": "SliderStyleModel",
      "state": {
       "_model_module_version": "~2.1.4",
       "_view_module_version": "~2.1.4"
      }
     },
     "adb708b66c2d4b62940677c20bfb6045": {
      "model_module": "jupyter-js-widgets",
      "model_module_version": "~2.1.4",
      "model_name": "IntSliderModel",
      "state": {
       "_model_module_version": "~2.1.4",
       "_view_module_version": "~2.1.4",
       "description": "i",
       "layout": "IPY_MODEL_760c22b70d7a4152be4da834290479c2",
       "max": 6,
       "style": "IPY_MODEL_3cef74add4154b4085266c04acd33fd0"
      }
     },
     "afd2880bc5724fccb0a6a71ab499133c": {
      "model_module": "jupyter-js-widgets",
      "model_module_version": "~2.1.4",
      "model_name": "IntSliderModel",
      "state": {
       "_model_module_version": "~2.1.4",
       "_view_module_version": "~2.1.4",
       "description": "i",
       "layout": "IPY_MODEL_65e828ce3a074f60860b9b88eff34f39",
       "max": 6,
       "style": "IPY_MODEL_7c083238194a44d08edd449ba8996283"
      }
     },
     "b00bc712a835434db63244107dd303d1": {
      "model_module": "jupyter-js-widgets",
      "model_module_version": "~2.1.4",
      "model_name": "VBoxModel",
      "state": {
       "_dom_classes": [
        "widget-interact"
       ],
       "_model_module_version": "~2.1.4",
       "_view_module_version": "~2.1.4",
       "children": [
        "IPY_MODEL_adb708b66c2d4b62940677c20bfb6045",
        "IPY_MODEL_c24c152b84254d6dbd4c93737801729b"
       ],
       "layout": "IPY_MODEL_546dc46f06d34fe5ba7822caaecbc0a4"
      }
     },
     "c24c152b84254d6dbd4c93737801729b": {
      "model_module": "jupyter-js-widgets",
      "model_module_version": "~2.1.4",
      "model_name": "OutputModel",
      "state": {
       "_dom_classes": [],
       "_model_module": "jupyter-js-widgets",
       "_model_module_version": "~2.1.4",
       "_view_module": "jupyter-js-widgets",
       "_view_module_version": "~2.1.4",
       "layout": "IPY_MODEL_d27fa242e66d407b9e88229d6bbff821",
       "msg_throttle": 1
      }
     },
     "c798bfda351346808c198550c9cceed3": {
      "model_module": "jupyter-js-widgets",
      "model_module_version": "~2.1.4",
      "model_name": "LayoutModel",
      "state": {
       "_model_module_version": "~2.1.4",
       "_view_module_version": "~2.1.4"
      }
     },
     "cb4cb6117390485a999f4342e4776a8e": {
      "model_module": "jupyter-js-widgets",
      "model_module_version": "~2.1.4",
      "model_name": "LayoutModel",
      "state": {
       "_model_module_version": "~2.1.4",
       "_view_module_version": "~2.1.4"
      }
     },
     "cbaead89be034702bd1469bbe2df5b5b": {
      "model_module": "jupyter-js-widgets",
      "model_module_version": "~2.1.4",
      "model_name": "IntSliderModel",
      "state": {
       "_model_module_version": "~2.1.4",
       "_view_module_version": "~2.1.4",
       "description": "i",
       "layout": "IPY_MODEL_ec8e87e7a7a247bd8db0c1e7a4be0a12",
       "max": 6,
       "style": "IPY_MODEL_04c1c8d0e4754b97a9a2984af1258a48"
      }
     },
     "cd9fc7278f804d4f9289f9885a2a4974": {
      "model_module": "jupyter-js-widgets",
      "model_module_version": "~2.1.4",
      "model_name": "LayoutModel",
      "state": {
       "_model_module_version": "~2.1.4",
       "_view_module_version": "~2.1.4"
      }
     },
     "ce7885f55d754d3e917db1e5cc70031e": {
      "model_module": "jupyter-js-widgets",
      "model_module_version": "~2.1.4",
      "model_name": "OutputModel",
      "state": {
       "_dom_classes": [],
       "_model_module": "jupyter-js-widgets",
       "_model_module_version": "~2.1.4",
       "_view_module": "jupyter-js-widgets",
       "_view_module_version": "~2.1.4",
       "layout": "IPY_MODEL_4705517b08354affaa703022630e2d73",
       "msg_throttle": 1
      }
     },
     "d002d6c4f9154a838263f24e5ff6831f": {
      "model_module": "jupyter-js-widgets",
      "model_module_version": "~2.1.4",
      "model_name": "OutputModel",
      "state": {
       "_dom_classes": [],
       "_model_module": "jupyter-js-widgets",
       "_model_module_version": "~2.1.4",
       "_view_module": "jupyter-js-widgets",
       "_view_module_version": "~2.1.4",
       "layout": "IPY_MODEL_eb4e75002146454baed02c687a838d2d",
       "msg_throttle": 1
      }
     },
     "d151063c2c49413986712483deb65962": {
      "model_module": "jupyter-js-widgets",
      "model_module_version": "~2.1.4",
      "model_name": "LayoutModel",
      "state": {
       "_model_module_version": "~2.1.4",
       "_view_module_version": "~2.1.4"
      }
     },
     "d27fa242e66d407b9e88229d6bbff821": {
      "model_module": "jupyter-js-widgets",
      "model_module_version": "~2.1.4",
      "model_name": "LayoutModel",
      "state": {
       "_model_module_version": "~2.1.4",
       "_view_module_version": "~2.1.4"
      }
     },
     "d5d767a74fd24d5e97fa57b5cd57b1d3": {
      "model_module": "jupyter-js-widgets",
      "model_module_version": "~2.1.4",
      "model_name": "OutputModel",
      "state": {
       "_dom_classes": [],
       "_model_module": "jupyter-js-widgets",
       "_model_module_version": "~2.1.4",
       "_view_module": "jupyter-js-widgets",
       "_view_module_version": "~2.1.4",
       "layout": "IPY_MODEL_75cabbee84334d039635fccba5ece2f5",
       "msg_throttle": 1
      }
     },
     "d775d22d6d8247c0b0204080a97d74a4": {
      "model_module": "jupyter-js-widgets",
      "model_module_version": "~2.1.4",
      "model_name": "VBoxModel",
      "state": {
       "_dom_classes": [
        "widget-interact"
       ],
       "_model_module_version": "~2.1.4",
       "_view_module_version": "~2.1.4",
       "children": [
        "IPY_MODEL_9d32bb9d8f1748138148f1ae59eb745d",
        "IPY_MODEL_a44355541ad34533abd1914e4fb9e11f"
       ],
       "layout": "IPY_MODEL_f5ee551badf54522bc22897d7f26d09b"
      }
     },
     "df41f2c9bbd5489d90be5189cb0ecbd8": {
      "model_module": "jupyter-js-widgets",
      "model_module_version": "~2.1.4",
      "model_name": "OutputModel",
      "state": {
       "_dom_classes": [],
       "_model_module": "jupyter-js-widgets",
       "_model_module_version": "~2.1.4",
       "_view_module": "jupyter-js-widgets",
       "_view_module_version": "~2.1.4",
       "layout": "IPY_MODEL_a735dbfcdc3a4107bf72d39948c14929",
       "msg_throttle": 1
      }
     },
     "df99c383adbc4545ac7c7c7c4d9368fd": {
      "model_module": "jupyter-js-widgets",
      "model_module_version": "~2.1.4",
      "model_name": "VBoxModel",
      "state": {
       "_dom_classes": [
        "widget-interact"
       ],
       "_model_module_version": "~2.1.4",
       "_view_module_version": "~2.1.4",
       "children": [
        "IPY_MODEL_a23a55340f264bd8a748a394c31d7af0",
        "IPY_MODEL_262e5458a5514d6dad4f47cc2c77ee6a"
       ],
       "layout": "IPY_MODEL_a14845cb74784dd296bcee4118ffa413"
      }
     },
     "e04b59da395344c8beaea97c8e7fc9ff": {
      "model_module": "jupyter-js-widgets",
      "model_module_version": "~2.1.4",
      "model_name": "OutputModel",
      "state": {
       "_dom_classes": [],
       "_model_module": "jupyter-js-widgets",
       "_model_module_version": "~2.1.4",
       "_view_module": "jupyter-js-widgets",
       "_view_module_version": "~2.1.4",
       "layout": "IPY_MODEL_2425f5cca9ba4c679a0767261eab1eb5",
       "msg_throttle": 1
      }
     },
     "e2b3c122f63e4606a0662d6eaa62ba25": {
      "model_module": "jupyter-js-widgets",
      "model_module_version": "~2.1.4",
      "model_name": "IntSliderModel",
      "state": {
       "_model_module_version": "~2.1.4",
       "_view_module_version": "~2.1.4",
       "description": "i",
       "layout": "IPY_MODEL_5f2df065b56b47458f4777b7ed684e8c",
       "max": 6,
       "style": "IPY_MODEL_5b45bccb6a804a40bb1d0736f691b526"
      }
     },
     "e80ae0b3cd464b2fb34e9f3dd4dd8d9e": {
      "model_module": "jupyter-js-widgets",
      "model_module_version": "~2.1.4",
      "model_name": "LayoutModel",
      "state": {
       "_model_module_version": "~2.1.4",
       "_view_module_version": "~2.1.4"
      }
     },
     "ea680266baec4793abcede23bbde4ce6": {
      "model_module": "jupyter-js-widgets",
      "model_module_version": "~2.1.4",
      "model_name": "LayoutModel",
      "state": {
       "_model_module_version": "~2.1.4",
       "_view_module_version": "~2.1.4"
      }
     },
     "eb4e75002146454baed02c687a838d2d": {
      "model_module": "jupyter-js-widgets",
      "model_module_version": "~2.1.4",
      "model_name": "LayoutModel",
      "state": {
       "_model_module_version": "~2.1.4",
       "_view_module_version": "~2.1.4"
      }
     },
     "eb567909319e4c819c5e60a3f1220353": {
      "model_module": "jupyter-js-widgets",
      "model_module_version": "~2.1.4",
      "model_name": "SliderStyleModel",
      "state": {
       "_model_module_version": "~2.1.4",
       "_view_module_version": "~2.1.4"
      }
     },
     "ec68b6f91edc45d284e9cff8e1a7d064": {
      "model_module": "jupyter-js-widgets",
      "model_module_version": "~2.1.4",
      "model_name": "SliderStyleModel",
      "state": {
       "_model_module_version": "~2.1.4",
       "_view_module_version": "~2.1.4"
      }
     },
     "ec8e87e7a7a247bd8db0c1e7a4be0a12": {
      "model_module": "jupyter-js-widgets",
      "model_module_version": "~2.1.4",
      "model_name": "LayoutModel",
      "state": {
       "_model_module_version": "~2.1.4",
       "_view_module_version": "~2.1.4"
      }
     },
     "ee492dd0412245a9a674f1536e7a3260": {
      "model_module": "jupyter-js-widgets",
      "model_module_version": "~2.1.4",
      "model_name": "LayoutModel",
      "state": {
       "_model_module_version": "~2.1.4",
       "_view_module_version": "~2.1.4"
      }
     },
     "f358d120b3f146338af3254fece2df3f": {
      "model_module": "jupyter-js-widgets",
      "model_module_version": "~2.1.4",
      "model_name": "SliderStyleModel",
      "state": {
       "_model_module_version": "~2.1.4",
       "_view_module_version": "~2.1.4"
      }
     },
     "f5ee551badf54522bc22897d7f26d09b": {
      "model_module": "jupyter-js-widgets",
      "model_module_version": "~2.1.4",
      "model_name": "LayoutModel",
      "state": {
       "_model_module_version": "~2.1.4",
       "_view_module_version": "~2.1.4"
      }
     },
     "fa7eb721573e40caa1f81c0c7db10895": {
      "model_module": "jupyter-js-widgets",
      "model_module_version": "~2.1.4",
      "model_name": "SliderStyleModel",
      "state": {
       "_model_module_version": "~2.1.4",
       "_view_module_version": "~2.1.4"
      }
     },
     "fa8b3fe2baac4e938784fd99ef8b0f74": {
      "model_module": "jupyter-js-widgets",
      "model_module_version": "~2.1.4",
      "model_name": "IntSliderModel",
      "state": {
       "_model_module_version": "~2.1.4",
       "_view_module_version": "~2.1.4",
       "description": "i",
       "layout": "IPY_MODEL_a07d5e4708324748ad44bb4e7c4c19dd",
       "max": 6,
       "style": "IPY_MODEL_443dfe53c8254943b190625f00edd89f"
      }
     },
     "fd238d3a034146fa8a00f3bdf5ca813e": {
      "model_module": "jupyter-js-widgets",
      "model_module_version": "~2.1.4",
      "model_name": "VBoxModel",
      "state": {
       "_dom_classes": [
        "widget-interact"
       ],
       "_model_module_version": "~2.1.4",
       "_view_module_version": "~2.1.4",
       "children": [
        "IPY_MODEL_848d15f22c1f4c7295ee13c8063a32ff",
        "IPY_MODEL_07f6e87c3e644d228be8c95dd74b5ae1"
       ],
       "layout": "IPY_MODEL_ea680266baec4793abcede23bbde4ce6"
      }
     }
    },
    "version_major": 1,
    "version_minor": 0
   }
  }
 },
 "nbformat": 4,
 "nbformat_minor": 2
}
